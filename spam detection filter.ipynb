{
 "cells": [
  {
   "cell_type": "markdown",
   "id": "58449fe9-6e2d-4ba4-805c-a7ceae638cad",
   "metadata": {},
   "source": [
    "# NLP (Natural Language Processing) with Python\n",
    "## Text message spam filter"
   ]
  },
  {
   "cell_type": "code",
   "execution_count": 1,
   "id": "ffb8444f-17f4-473d-b5ac-d8c1c643c4a4",
   "metadata": {},
   "outputs": [],
   "source": [
    "import nltk"
   ]
  },
  {
   "cell_type": "code",
   "execution_count": 2,
   "id": "6128faca-32ca-4032-8cb2-cdb40ca347e5",
   "metadata": {},
   "outputs": [
    {
     "name": "stdout",
     "output_type": "stream",
     "text": [
      "NLTK Downloader\n",
      "---------------------------------------------------------------------------\n",
      "    d) Download   l) List    u) Update   c) Config   h) Help   q) Quit\n",
      "---------------------------------------------------------------------------\n"
     ]
    },
    {
     "name": "stdin",
     "output_type": "stream",
     "text": [
      "Downloader>  l\n"
     ]
    },
    {
     "name": "stdout",
     "output_type": "stream",
     "text": [
      "\n",
      "Packages:\n",
      "  [ ] abc................. Australian Broadcasting Commission 2006\n",
      "  [ ] alpino.............. Alpino Dutch Treebank\n",
      "  [ ] averaged_perceptron_tagger Averaged Perceptron Tagger\n",
      "  [ ] averaged_perceptron_tagger_eng Averaged Perceptron Tagger (JSON)\n",
      "  [ ] averaged_perceptron_tagger_ru Averaged Perceptron Tagger (Russian)\n",
      "  [ ] averaged_perceptron_tagger_rus Averaged Perceptron Tagger (Russian)\n",
      "  [ ] basque_grammars..... Grammars for Basque\n",
      "  [ ] bcp47............... BCP-47 Language Tags\n",
      "  [ ] biocreative_ppi..... BioCreAtIvE (Critical Assessment of Information\n",
      "                           Extraction Systems in Biology)\n",
      "  [ ] bllip_wsj_no_aux.... BLLIP Parser: WSJ Model\n",
      "  [ ] book_grammars....... Grammars from NLTK Book\n",
      "  [ ] brown............... Brown Corpus\n",
      "  [ ] brown_tei........... Brown Corpus (TEI XML Version)\n",
      "  [ ] cess_cat............ CESS-CAT Treebank\n",
      "  [ ] cess_esp............ CESS-ESP Treebank\n",
      "  [ ] chat80.............. Chat-80 Data Files\n",
      "  [ ] city_database....... City Database\n",
      "  [ ] cmudict............. The Carnegie Mellon Pronouncing Dictionary (0.6)\n",
      "  [ ] comparative_sentences Comparative Sentence Dataset\n"
     ]
    },
    {
     "name": "stdin",
     "output_type": "stream",
     "text": [
      "Hit Enter to continue:  \n"
     ]
    },
    {
     "name": "stdout",
     "output_type": "stream",
     "text": [
      "  [ ] comtrans............ ComTrans Corpus Sample\n",
      "  [ ] conll2000........... CONLL 2000 Chunking Corpus\n",
      "  [ ] conll2002........... CONLL 2002 Named Entity Recognition Corpus\n",
      "  [ ] conll2007........... Dependency Treebanks from CoNLL 2007 (Catalan\n",
      "                           and Basque Subset)\n",
      "  [ ] crubadan............ Crubadan Corpus\n",
      "  [ ] dependency_treebank. Dependency Parsed Treebank\n",
      "  [ ] dolch............... Dolch Word List\n",
      "  [ ] europarl_raw........ Sample European Parliament Proceedings Parallel\n",
      "                           Corpus\n",
      "  [ ] extended_omw........ Extended Open Multilingual WordNet\n",
      "  [ ] floresta............ Portuguese Treebank\n",
      "  [ ] framenet_v15........ FrameNet 1.5\n",
      "  [ ] framenet_v17........ FrameNet 1.7\n",
      "  [ ] gazetteers.......... Gazeteer Lists\n",
      "  [ ] genesis............. Genesis Corpus\n",
      "  [ ] gutenberg........... Project Gutenberg Selections\n",
      "  [ ] ieer................ NIST IE-ER DATA SAMPLE\n",
      "  [ ] inaugural........... C-Span Inaugural Address Corpus\n",
      "  [ ] indian.............. Indian Language POS-Tagged Corpus\n",
      "  [ ] jeita............... JEITA Public Morphologically Tagged Corpus (in\n",
      "                           ChaSen format)\n"
     ]
    },
    {
     "name": "stdin",
     "output_type": "stream",
     "text": [
      "Hit Enter to continue:  \n"
     ]
    },
    {
     "name": "stdout",
     "output_type": "stream",
     "text": [
      "  [ ] kimmo............... PC-KIMMO Data Files\n",
      "  [ ] knbc................ KNB Corpus (Annotated blog corpus)\n",
      "  [ ] large_grammars...... Large context-free and feature-based grammars\n",
      "                           for parser comparison\n",
      "  [ ] lin_thesaurus....... Lin's Dependency Thesaurus\n",
      "  [ ] mac_morpho.......... MAC-MORPHO: Brazilian Portuguese news text with\n",
      "                           part-of-speech tags\n",
      "  [ ] machado............. Machado de Assis -- Obra Completa\n",
      "  [ ] masc_tagged......... MASC Tagged Corpus\n",
      "  [ ] maxent_ne_chunker... ACE Named Entity Chunker (Maximum entropy)\n",
      "  [ ] maxent_ne_chunker_tab ACE Named Entity Chunker (Maximum entropy)\n",
      "  [ ] maxent_treebank_pos_tagger Treebank Part of Speech Tagger (Maximum entropy)\n",
      "  [ ] maxent_treebank_pos_tagger_tab Treebank Part of Speech Tagger (Maximum entropy)\n",
      "  [ ] moses_sample........ Moses Sample Models\n",
      "  [ ] movie_reviews....... Sentiment Polarity Dataset Version 2.0\n",
      "  [ ] mte_teip5........... MULTEXT-East 1984 annotated corpus 4.0\n",
      "  [ ] mwa_ppdb............ The monolingual word aligner (Sultan et al.\n",
      "                           2015) subset of the Paraphrase Database.\n",
      "  [ ] names............... Names Corpus, Version 1.3 (1994-03-29)\n",
      "  [ ] nombank.1.0......... NomBank Corpus 1.0\n",
      "  [ ] nonbreaking_prefixes Non-Breaking Prefixes (Moses Decoder)\n"
     ]
    },
    {
     "name": "stdin",
     "output_type": "stream",
     "text": [
      "Hit Enter to continue:  \n"
     ]
    },
    {
     "name": "stdout",
     "output_type": "stream",
     "text": [
      "  [ ] nps_chat............ NPS Chat\n",
      "  [ ] omw-1.4............. Open Multilingual Wordnet\n",
      "  [ ] omw................. Open Multilingual Wordnet\n",
      "  [ ] opinion_lexicon..... Opinion Lexicon\n",
      "  [ ] panlex_swadesh...... PanLex Swadesh Corpora\n",
      "  [ ] paradigms........... Paradigm Corpus\n",
      "  [ ] pe08................ Cross-Framework and Cross-Domain Parser\n",
      "                           Evaluation Shared Task\n",
      "  [ ] perluniprops........ perluniprops: Index of Unicode Version 7.0.0\n",
      "                           character properties in Perl\n",
      "  [ ] pil................. The Patient Information Leaflet (PIL) Corpus\n",
      "  [ ] pl196x.............. Polish language of the XX century sixties\n",
      "  [ ] porter_test......... Porter Stemmer Test Files\n",
      "  [ ] ppattach............ Prepositional Phrase Attachment Corpus\n",
      "  [ ] problem_reports..... Problem Report Corpus\n",
      "  [ ] product_reviews_1... Product Reviews (5 Products)\n",
      "  [ ] product_reviews_2... Product Reviews (9 Products)\n",
      "  [ ] propbank............ Proposition Bank Corpus 1.0\n",
      "  [ ] pros_cons........... Pros and Cons\n",
      "  [ ] ptb................. Penn Treebank\n",
      "  [ ] punkt............... Punkt Tokenizer Models\n"
     ]
    },
    {
     "name": "stdin",
     "output_type": "stream",
     "text": [
      "Hit Enter to continue:  \n"
     ]
    },
    {
     "name": "stdout",
     "output_type": "stream",
     "text": [
      "  [ ] punkt_tab........... Punkt Tokenizer Models\n",
      "  [ ] qc.................. Experimental Data for Question Classification\n",
      "  [ ] reuters............. The Reuters-21578 benchmark corpus, ApteMod\n",
      "                           version\n",
      "  [ ] rslp................ RSLP Stemmer (Removedor de Sufixos da Lingua\n",
      "                           Portuguesa)\n",
      "  [ ] rte................. PASCAL RTE Challenges 1, 2, and 3\n",
      "  [ ] sample_grammars..... Sample Grammars\n",
      "  [ ] semcor.............. SemCor 3.0\n",
      "  [ ] senseval............ SENSEVAL 2 Corpus: Sense Tagged Text\n",
      "  [ ] sentence_polarity... Sentence Polarity Dataset v1.0\n",
      "  [ ] sentiwordnet........ SentiWordNet\n",
      "  [ ] shakespeare......... Shakespeare XML Corpus Sample\n",
      "  [ ] sinica_treebank..... Sinica Treebank Corpus Sample\n",
      "  [ ] smultron............ SMULTRON Corpus Sample\n",
      "  [ ] snowball_data....... Snowball Data\n",
      "  [ ] spanish_grammars.... Grammars for Spanish\n",
      "  [ ] state_union......... C-Span State of the Union Address Corpus\n",
      "  [ ] stopwords........... Stopwords Corpus\n",
      "  [ ] subjectivity........ Subjectivity Dataset v1.0\n",
      "  [ ] swadesh............. Swadesh Wordlists\n"
     ]
    },
    {
     "name": "stdin",
     "output_type": "stream",
     "text": [
      "Hit Enter to continue:  \n"
     ]
    },
    {
     "name": "stdout",
     "output_type": "stream",
     "text": [
      "  [ ] switchboard......... Switchboard Corpus Sample\n",
      "  [ ] tagsets............. Help on Tagsets\n",
      "  [ ] tagsets_json........ Help on Tagsets (JSON)\n",
      "  [ ] timit............... TIMIT Corpus Sample\n",
      "  [ ] toolbox............. Toolbox Sample Files\n",
      "  [ ] treebank............ Penn Treebank Sample\n",
      "  [ ] twitter_samples..... Twitter Samples\n",
      "  [ ] udhr2............... Universal Declaration of Human Rights Corpus\n",
      "                           (Unicode Version)\n",
      "  [ ] udhr................ Universal Declaration of Human Rights Corpus\n",
      "  [ ] unicode_samples..... Unicode Samples\n",
      "  [ ] universal_tagset.... Mappings to the Universal Part-of-Speech Tagset\n",
      "  [ ] universal_treebanks_v20 Universal Treebanks Version 2.0\n",
      "  [ ] vader_lexicon....... VADER Sentiment Lexicon\n",
      "  [ ] verbnet3............ VerbNet Lexicon, Version 3.3\n",
      "  [ ] verbnet............. VerbNet Lexicon, Version 2.1\n",
      "  [ ] webtext............. Web Text Corpus\n",
      "  [ ] wmt15_eval.......... Evaluation data from WMT15\n",
      "  [ ] word2vec_sample..... Word2Vec Sample\n",
      "  [ ] wordnet2021......... Open English Wordnet 2021\n",
      "  [ ] wordnet2022......... Open English Wordnet 2022\n"
     ]
    },
    {
     "name": "stdin",
     "output_type": "stream",
     "text": [
      "Hit Enter to continue:  \n"
     ]
    },
    {
     "name": "stdout",
     "output_type": "stream",
     "text": [
      "  [ ] wordnet31........... Wordnet 3.1\n",
      "  [ ] wordnet............. WordNet\n",
      "  [ ] wordnet_ic.......... WordNet-InfoContent\n",
      "  [ ] words............... Word Lists\n",
      "  [ ] ycoe................ York-Toronto-Helsinki Parsed Corpus of Old\n",
      "                           English Prose\n",
      "\n",
      "Collections:\n",
      "  [ ] all-corpora......... All the corpora\n",
      "  [ ] all-nltk............ All packages available on nltk_data gh-pages\n",
      "                           branch\n",
      "  [ ] all................. All packages\n",
      "  [ ] book................ Everything used in the NLTK Book\n",
      "  [ ] popular............. Popular packages\n",
      "  [ ] tests............... Packages for running tests\n",
      "  [ ] third-party......... Third-party data packages\n",
      "\n",
      "([*] marks installed packages)\n",
      "\n",
      "---------------------------------------------------------------------------\n",
      "    d) Download   l) List    u) Update   c) Config   h) Help   q) Quit\n",
      "---------------------------------------------------------------------------\n"
     ]
    },
    {
     "name": "stdin",
     "output_type": "stream",
     "text": [
      "Downloader>  d\n"
     ]
    },
    {
     "name": "stdout",
     "output_type": "stream",
     "text": [
      "\n",
      "Download which package (l=list; x=cancel)?\n"
     ]
    },
    {
     "name": "stdin",
     "output_type": "stream",
     "text": [
      "  Identifier>  stopwords\n"
     ]
    },
    {
     "name": "stderr",
     "output_type": "stream",
     "text": [
      "    Downloading package stopwords to\n",
      "        C:\\Users\\nk\\AppData\\Roaming\\nltk_data...\n",
      "      Unzipping corpora\\stopwords.zip.\n"
     ]
    },
    {
     "name": "stdout",
     "output_type": "stream",
     "text": [
      "\n",
      "---------------------------------------------------------------------------\n",
      "    d) Download   l) List    u) Update   c) Config   h) Help   q) Quit\n",
      "---------------------------------------------------------------------------\n"
     ]
    },
    {
     "name": "stdin",
     "output_type": "stream",
     "text": [
      "Downloader>  stopwords\n"
     ]
    },
    {
     "name": "stdout",
     "output_type": "stream",
     "text": [
      "Command 'stopwords' unrecognized\n",
      "\n",
      "---------------------------------------------------------------------------\n",
      "    d) Download   l) List    u) Update   c) Config   h) Help   q) Quit\n",
      "---------------------------------------------------------------------------\n"
     ]
    },
    {
     "name": "stdin",
     "output_type": "stream",
     "text": [
      "Downloader>  d\n"
     ]
    },
    {
     "name": "stdout",
     "output_type": "stream",
     "text": [
      "\n",
      "Download which package (l=list; x=cancel)?\n"
     ]
    },
    {
     "name": "stdin",
     "output_type": "stream",
     "text": [
      "  Identifier>  stopwords\n"
     ]
    },
    {
     "name": "stderr",
     "output_type": "stream",
     "text": [
      "    Downloading package stopwords to\n",
      "        C:\\Users\\nk\\AppData\\Roaming\\nltk_data...\n",
      "      Package stopwords is already up-to-date!\n"
     ]
    },
    {
     "name": "stdout",
     "output_type": "stream",
     "text": [
      "\n",
      "---------------------------------------------------------------------------\n",
      "    d) Download   l) List    u) Update   c) Config   h) Help   q) Quit\n",
      "---------------------------------------------------------------------------\n"
     ]
    },
    {
     "name": "stdin",
     "output_type": "stream",
     "text": [
      "Downloader>  q\n"
     ]
    }
   ],
   "source": [
    "nltk.download_shell()"
   ]
  },
  {
   "cell_type": "markdown",
   "id": "28bfea69-c200-4cc9-b676-9be35eca782e",
   "metadata": {},
   "source": [
    "## Get the Data"
   ]
  },
  {
   "cell_type": "markdown",
   "id": "d3c2a0ff-2e37-469c-9f4f-99f56cd6c2e2",
   "metadata": {},
   "source": [
    "We'll be using a dataset from the [UCI datasets](https://archive.ics.uci.edu/ml/datasets/SMS+Spam+Collection)!"
   ]
  },
  {
   "cell_type": "markdown",
   "id": "8f9152ac-a36e-4730-81b3-cda2bd363bc6",
   "metadata": {},
   "source": [
    "The file we are using contains a collection of more than 5 thousand SMS phone messages. You can check out the **readme** file for more info.\n",
    "\n",
    "Let's go ahead and use rstrip() plus a list comprehension to get a list of all the lines of text messages:"
   ]
  },
  {
   "cell_type": "code",
   "execution_count": 3,
   "id": "6742fdcf-453f-4b8c-85fb-5dbad3145301",
   "metadata": {},
   "outputs": [],
   "source": [
    "messages = [line.rstrip() for line in open('smsspamcollection/SMSSpamCollection')]"
   ]
  },
  {
   "cell_type": "code",
   "execution_count": 4,
   "id": "52b1a8e9-e097-4f61-b5da-16e7acf5f8cb",
   "metadata": {},
   "outputs": [
    {
     "name": "stdout",
     "output_type": "stream",
     "text": [
      "5574\n"
     ]
    }
   ],
   "source": [
    "print(len(messages))"
   ]
  },
  {
   "cell_type": "code",
   "execution_count": 5,
   "id": "c459587e-b9cf-4f61-b6a3-1261d1116313",
   "metadata": {},
   "outputs": [
    {
     "data": {
      "text/plain": [
       "'ham\\tWhat you thinked about me. First time you saw me in class.'"
      ]
     },
     "execution_count": 5,
     "metadata": {},
     "output_type": "execute_result"
    }
   ],
   "source": [
    "messages[50]"
   ]
  },
  {
   "cell_type": "markdown",
   "id": "6a51d09e-f7e1-42bb-971b-932b0f301435",
   "metadata": {},
   "source": [
    "A collection of texts is also sometimes called \"corpus\". Let's print the first ten messages and number them using **enumerate**:"
   ]
  },
  {
   "cell_type": "code",
   "execution_count": 6,
   "id": "8ba54a0f-7aa1-44c0-ae8f-459470be03e9",
   "metadata": {},
   "outputs": [
    {
     "name": "stdout",
     "output_type": "stream",
     "text": [
      "0 ham\tGo until jurong point, crazy.. Available only in bugis n great world la e buffet... Cine there got amore wat...\n",
      "\n",
      "\n",
      "1 ham\tOk lar... Joking wif u oni...\n",
      "\n",
      "\n",
      "2 spam\tFree entry in 2 a wkly comp to win FA Cup final tkts 21st May 2005. Text FA to 87121 to receive entry question(std txt rate)T&C's apply 08452810075over18's\n",
      "\n",
      "\n",
      "3 ham\tU dun say so early hor... U c already then say...\n",
      "\n",
      "\n",
      "4 ham\tNah I don't think he goes to usf, he lives around here though\n",
      "\n",
      "\n",
      "5 spam\tFreeMsg Hey there darling it's been 3 week's now and no word back! I'd like some fun you up for it still? Tb ok! XxX std chgs to send, Â£1.50 to rcv\n",
      "\n",
      "\n",
      "6 ham\tEven my brother is not like to speak with me. They treat me like aids patent.\n",
      "\n",
      "\n",
      "7 ham\tAs per your request 'Melle Melle (Oru Minnaminunginte Nurungu Vettam)' has been set as your callertune for all Callers. Press *9 to copy your friends Callertune\n",
      "\n",
      "\n",
      "8 spam\tWINNER!! As a valued network customer you have been selected to receivea Â£900 prize reward! To claim call 09061701461. Claim code KL341. Valid 12 hours only.\n",
      "\n",
      "\n",
      "9 spam\tHad your mobile 11 months or more? U R entitled to Update to the latest colour mobiles with camera for Free! Call The Mobile Update Co FREE on 08002986030\n",
      "\n",
      "\n"
     ]
    }
   ],
   "source": [
    "for mess_no,message in enumerate(messages[:10]):\n",
    "    print(mess_no,message)\n",
    "    print('\\n')"
   ]
  },
  {
   "cell_type": "markdown",
   "id": "35eadd70-6e05-4590-a126-6a2d51714028",
   "metadata": {},
   "source": [
    "Due to the spacing we can tell that this is a [TSV](http://en.wikipedia.org/wiki/Tab-separated_values) (\"tab separated values\") file, where the first column is a label saying whether the given message is a normal message (commonly known as \"ham\") or \"spam\". The second column is the message itself. (Note our numbers aren't part of the file, they are just from the **enumerate** call).\n",
    "\n",
    "Using these labeled ham and spam examples, we'll **train a machine learning model to learn to discriminate between ham/spam automatically**. Then, with a trained model, we'll be able to **classify arbitrary unlabeled messages** as ham or spam."
   ]
  },
  {
   "cell_type": "code",
   "execution_count": 7,
   "id": "5a92d7f0-0560-4026-9d74-b9ad2f5a7169",
   "metadata": {},
   "outputs": [],
   "source": [
    "import pandas as pd "
   ]
  },
  {
   "cell_type": "code",
   "execution_count": 11,
   "id": "c2ae2f85-e93c-4422-9f7c-64c9a9cbc6c6",
   "metadata": {},
   "outputs": [],
   "source": [
    "messages = pd.read_csv('smsspamcollection/SMSSpamCollection',sep='\\t',names=['label','message'])"
   ]
  },
  {
   "cell_type": "code",
   "execution_count": 12,
   "id": "6808f999-d5b3-49b2-b0f0-bbb619703590",
   "metadata": {},
   "outputs": [
    {
     "data": {
      "text/html": [
       "<div>\n",
       "<style scoped>\n",
       "    .dataframe tbody tr th:only-of-type {\n",
       "        vertical-align: middle;\n",
       "    }\n",
       "\n",
       "    .dataframe tbody tr th {\n",
       "        vertical-align: top;\n",
       "    }\n",
       "\n",
       "    .dataframe thead th {\n",
       "        text-align: right;\n",
       "    }\n",
       "</style>\n",
       "<table border=\"1\" class=\"dataframe\">\n",
       "  <thead>\n",
       "    <tr style=\"text-align: right;\">\n",
       "      <th></th>\n",
       "      <th>label</th>\n",
       "      <th>message</th>\n",
       "    </tr>\n",
       "  </thead>\n",
       "  <tbody>\n",
       "    <tr>\n",
       "      <th>0</th>\n",
       "      <td>ham</td>\n",
       "      <td>Go until jurong point, crazy.. Available only ...</td>\n",
       "    </tr>\n",
       "    <tr>\n",
       "      <th>1</th>\n",
       "      <td>ham</td>\n",
       "      <td>Ok lar... Joking wif u oni...</td>\n",
       "    </tr>\n",
       "    <tr>\n",
       "      <th>2</th>\n",
       "      <td>spam</td>\n",
       "      <td>Free entry in 2 a wkly comp to win FA Cup fina...</td>\n",
       "    </tr>\n",
       "    <tr>\n",
       "      <th>3</th>\n",
       "      <td>ham</td>\n",
       "      <td>U dun say so early hor... U c already then say...</td>\n",
       "    </tr>\n",
       "    <tr>\n",
       "      <th>4</th>\n",
       "      <td>ham</td>\n",
       "      <td>Nah I don't think he goes to usf, he lives aro...</td>\n",
       "    </tr>\n",
       "    <tr>\n",
       "      <th>...</th>\n",
       "      <td>...</td>\n",
       "      <td>...</td>\n",
       "    </tr>\n",
       "    <tr>\n",
       "      <th>5567</th>\n",
       "      <td>spam</td>\n",
       "      <td>This is the 2nd time we have tried 2 contact u...</td>\n",
       "    </tr>\n",
       "    <tr>\n",
       "      <th>5568</th>\n",
       "      <td>ham</td>\n",
       "      <td>Will ü b going to esplanade fr home?</td>\n",
       "    </tr>\n",
       "    <tr>\n",
       "      <th>5569</th>\n",
       "      <td>ham</td>\n",
       "      <td>Pity, * was in mood for that. So...any other s...</td>\n",
       "    </tr>\n",
       "    <tr>\n",
       "      <th>5570</th>\n",
       "      <td>ham</td>\n",
       "      <td>The guy did some bitching but I acted like i'd...</td>\n",
       "    </tr>\n",
       "    <tr>\n",
       "      <th>5571</th>\n",
       "      <td>ham</td>\n",
       "      <td>Rofl. Its true to its name</td>\n",
       "    </tr>\n",
       "  </tbody>\n",
       "</table>\n",
       "<p>5572 rows × 2 columns</p>\n",
       "</div>"
      ],
      "text/plain": [
       "     label                                            message\n",
       "0      ham  Go until jurong point, crazy.. Available only ...\n",
       "1      ham                      Ok lar... Joking wif u oni...\n",
       "2     spam  Free entry in 2 a wkly comp to win FA Cup fina...\n",
       "3      ham  U dun say so early hor... U c already then say...\n",
       "4      ham  Nah I don't think he goes to usf, he lives aro...\n",
       "...    ...                                                ...\n",
       "5567  spam  This is the 2nd time we have tried 2 contact u...\n",
       "5568   ham               Will ü b going to esplanade fr home?\n",
       "5569   ham  Pity, * was in mood for that. So...any other s...\n",
       "5570   ham  The guy did some bitching but I acted like i'd...\n",
       "5571   ham                         Rofl. Its true to its name\n",
       "\n",
       "[5572 rows x 2 columns]"
      ]
     },
     "execution_count": 12,
     "metadata": {},
     "output_type": "execute_result"
    }
   ],
   "source": [
    "messages"
   ]
  },
  {
   "cell_type": "markdown",
   "id": "a97174ca-6628-43ad-9744-a7ec85d7f2d3",
   "metadata": {},
   "source": [
    "## Exploratory Data Analysis\n",
    "\n",
    "Let's check out some of the stats with some plots and the built-in methods in pandas!"
   ]
  },
  {
   "cell_type": "code",
   "execution_count": 13,
   "id": "b4ff6952-c7b5-4ec4-a4a8-bef67e284162",
   "metadata": {},
   "outputs": [
    {
     "data": {
      "text/html": [
       "<div>\n",
       "<style scoped>\n",
       "    .dataframe tbody tr th:only-of-type {\n",
       "        vertical-align: middle;\n",
       "    }\n",
       "\n",
       "    .dataframe tbody tr th {\n",
       "        vertical-align: top;\n",
       "    }\n",
       "\n",
       "    .dataframe thead th {\n",
       "        text-align: right;\n",
       "    }\n",
       "</style>\n",
       "<table border=\"1\" class=\"dataframe\">\n",
       "  <thead>\n",
       "    <tr style=\"text-align: right;\">\n",
       "      <th></th>\n",
       "      <th>label</th>\n",
       "      <th>message</th>\n",
       "    </tr>\n",
       "  </thead>\n",
       "  <tbody>\n",
       "    <tr>\n",
       "      <th>count</th>\n",
       "      <td>5572</td>\n",
       "      <td>5572</td>\n",
       "    </tr>\n",
       "    <tr>\n",
       "      <th>unique</th>\n",
       "      <td>2</td>\n",
       "      <td>5169</td>\n",
       "    </tr>\n",
       "    <tr>\n",
       "      <th>top</th>\n",
       "      <td>ham</td>\n",
       "      <td>Sorry, I'll call later</td>\n",
       "    </tr>\n",
       "    <tr>\n",
       "      <th>freq</th>\n",
       "      <td>4825</td>\n",
       "      <td>30</td>\n",
       "    </tr>\n",
       "  </tbody>\n",
       "</table>\n",
       "</div>"
      ],
      "text/plain": [
       "       label                 message\n",
       "count   5572                    5572\n",
       "unique     2                    5169\n",
       "top      ham  Sorry, I'll call later\n",
       "freq    4825                      30"
      ]
     },
     "execution_count": 13,
     "metadata": {},
     "output_type": "execute_result"
    }
   ],
   "source": [
    "messages .describe()"
   ]
  },
  {
   "cell_type": "code",
   "execution_count": 17,
   "id": "9e1cf566-9ef9-44e0-81cb-ef5eee1b8818",
   "metadata": {},
   "outputs": [
    {
     "data": {
      "text/html": [
       "<div>\n",
       "<style scoped>\n",
       "    .dataframe tbody tr th:only-of-type {\n",
       "        vertical-align: middle;\n",
       "    }\n",
       "\n",
       "    .dataframe tbody tr th {\n",
       "        vertical-align: top;\n",
       "    }\n",
       "\n",
       "    .dataframe thead tr th {\n",
       "        text-align: left;\n",
       "    }\n",
       "\n",
       "    .dataframe thead tr:last-of-type th {\n",
       "        text-align: right;\n",
       "    }\n",
       "</style>\n",
       "<table border=\"1\" class=\"dataframe\">\n",
       "  <thead>\n",
       "    <tr>\n",
       "      <th></th>\n",
       "      <th colspan=\"4\" halign=\"left\">message</th>\n",
       "    </tr>\n",
       "    <tr>\n",
       "      <th></th>\n",
       "      <th>count</th>\n",
       "      <th>unique</th>\n",
       "      <th>top</th>\n",
       "      <th>freq</th>\n",
       "    </tr>\n",
       "    <tr>\n",
       "      <th>label</th>\n",
       "      <th></th>\n",
       "      <th></th>\n",
       "      <th></th>\n",
       "      <th></th>\n",
       "    </tr>\n",
       "  </thead>\n",
       "  <tbody>\n",
       "    <tr>\n",
       "      <th>ham</th>\n",
       "      <td>4825</td>\n",
       "      <td>4516</td>\n",
       "      <td>Sorry, I'll call later</td>\n",
       "      <td>30</td>\n",
       "    </tr>\n",
       "    <tr>\n",
       "      <th>spam</th>\n",
       "      <td>747</td>\n",
       "      <td>653</td>\n",
       "      <td>Please call our customer service representativ...</td>\n",
       "      <td>4</td>\n",
       "    </tr>\n",
       "  </tbody>\n",
       "</table>\n",
       "</div>"
      ],
      "text/plain": [
       "      message                                                               \n",
       "        count unique                                                top freq\n",
       "label                                                                       \n",
       "ham      4825   4516                             Sorry, I'll call later   30\n",
       "spam      747    653  Please call our customer service representativ...    4"
      ]
     },
     "execution_count": 17,
     "metadata": {},
     "output_type": "execute_result"
    }
   ],
   "source": [
    "messages.groupby('label').describe()"
   ]
  },
  {
   "cell_type": "markdown",
   "id": "255a0612-e2cd-4e4c-8f5b-74c6bc6ba9b2",
   "metadata": {},
   "source": [
    "As we continue our analysis we want to start thinking about the features we are going to be using. This goes along with the general idea of [feature engineering]\n",
    "\n",
    "Let's make a new column to detect how long the text messages are:"
   ]
  },
  {
   "cell_type": "code",
   "execution_count": 20,
   "id": "59bc3949-e668-4b40-ad31-add97049fcad",
   "metadata": {},
   "outputs": [],
   "source": [
    "messages['length'] = messages['message'].apply(len)"
   ]
  },
  {
   "cell_type": "code",
   "execution_count": 21,
   "id": "8d3cf27e-1582-4338-8e19-7681609264e3",
   "metadata": {},
   "outputs": [
    {
     "data": {
      "text/html": [
       "<div>\n",
       "<style scoped>\n",
       "    .dataframe tbody tr th:only-of-type {\n",
       "        vertical-align: middle;\n",
       "    }\n",
       "\n",
       "    .dataframe tbody tr th {\n",
       "        vertical-align: top;\n",
       "    }\n",
       "\n",
       "    .dataframe thead th {\n",
       "        text-align: right;\n",
       "    }\n",
       "</style>\n",
       "<table border=\"1\" class=\"dataframe\">\n",
       "  <thead>\n",
       "    <tr style=\"text-align: right;\">\n",
       "      <th></th>\n",
       "      <th>label</th>\n",
       "      <th>message</th>\n",
       "      <th>length</th>\n",
       "    </tr>\n",
       "  </thead>\n",
       "  <tbody>\n",
       "    <tr>\n",
       "      <th>0</th>\n",
       "      <td>ham</td>\n",
       "      <td>Go until jurong point, crazy.. Available only ...</td>\n",
       "      <td>111</td>\n",
       "    </tr>\n",
       "    <tr>\n",
       "      <th>1</th>\n",
       "      <td>ham</td>\n",
       "      <td>Ok lar... Joking wif u oni...</td>\n",
       "      <td>29</td>\n",
       "    </tr>\n",
       "    <tr>\n",
       "      <th>2</th>\n",
       "      <td>spam</td>\n",
       "      <td>Free entry in 2 a wkly comp to win FA Cup fina...</td>\n",
       "      <td>155</td>\n",
       "    </tr>\n",
       "    <tr>\n",
       "      <th>3</th>\n",
       "      <td>ham</td>\n",
       "      <td>U dun say so early hor... U c already then say...</td>\n",
       "      <td>49</td>\n",
       "    </tr>\n",
       "    <tr>\n",
       "      <th>4</th>\n",
       "      <td>ham</td>\n",
       "      <td>Nah I don't think he goes to usf, he lives aro...</td>\n",
       "      <td>61</td>\n",
       "    </tr>\n",
       "  </tbody>\n",
       "</table>\n",
       "</div>"
      ],
      "text/plain": [
       "  label                                            message  length\n",
       "0   ham  Go until jurong point, crazy.. Available only ...     111\n",
       "1   ham                      Ok lar... Joking wif u oni...      29\n",
       "2  spam  Free entry in 2 a wkly comp to win FA Cup fina...     155\n",
       "3   ham  U dun say so early hor... U c already then say...      49\n",
       "4   ham  Nah I don't think he goes to usf, he lives aro...      61"
      ]
     },
     "execution_count": 21,
     "metadata": {},
     "output_type": "execute_result"
    }
   ],
   "source": [
    "messages.head()"
   ]
  },
  {
   "cell_type": "markdown",
   "id": "9758e065-be85-47ce-88c1-22b5b5d2d1d9",
   "metadata": {},
   "source": [
    "### Data Visualization\n",
    "Let's visualize this! Let's do the imports:"
   ]
  },
  {
   "cell_type": "code",
   "execution_count": 24,
   "id": "085806c0-03f9-44e6-b3c5-365b55b54c15",
   "metadata": {},
   "outputs": [],
   "source": [
    "import matplotlib.pyplot as plt\n",
    "import seaborn as sns"
   ]
  },
  {
   "cell_type": "code",
   "execution_count": 25,
   "id": "1a579e26-1b0b-4f86-b1a2-5ee013f21474",
   "metadata": {},
   "outputs": [],
   "source": [
    "%matplotlib inline"
   ]
  },
  {
   "cell_type": "code",
   "execution_count": 29,
   "id": "e791946d-acb5-430a-80af-6e2885533756",
   "metadata": {},
   "outputs": [],
   "source": [
    "sns.set()"
   ]
  },
  {
   "cell_type": "code",
   "execution_count": 31,
   "id": "cb33db2e-5044-41e4-b3ea-d4087dd0d711",
   "metadata": {},
   "outputs": [
    {
     "data": {
      "text/plain": [
       "<Axes: ylabel='Frequency'>"
      ]
     },
     "execution_count": 31,
     "metadata": {},
     "output_type": "execute_result"
    },
    {
     "data": {
      "image/png": "[encoded data removed]",
      "text/plain": [
       "<Figure size 640x480 with 1 Axes>"
      ]
     },
     "metadata": {},
     "output_type": "display_data"
    }
   ],
   "source": [
    "  messages['length'].plot.hist(bins = 150)"
   ]
  },
  {
   "cell_type": "code",
   "execution_count": 32,
   "id": "9b339df1-1d11-4be6-8f2c-a022a3475650",
   "metadata": {},
   "outputs": [
    {
     "data": {
      "text/plain": [
       "count    5572.000000\n",
       "mean       80.489950\n",
       "std        59.942907\n",
       "min         2.000000\n",
       "25%        36.000000\n",
       "50%        62.000000\n",
       "75%       122.000000\n",
       "max       910.000000\n",
       "Name: length, dtype: float64"
      ]
     },
     "execution_count": 32,
     "metadata": {},
     "output_type": "execute_result"
    }
   ],
   "source": [
    "messages['length'].describe()"
   ]
  },
  {
   "cell_type": "code",
   "execution_count": 40,
   "id": "d5be7fa9-7359-4f5b-a9ac-da4564bb742f",
   "metadata": {},
   "outputs": [
    {
     "data": {
      "text/plain": [
       "\"For me the love should start with attraction.i should feel that I need her every time around me.she should be the first thing which comes in my thoughts.I would start the day and end it with her.she should be there every time I dream.love will be then when my every breath has her name.my life should happen around her.my life will be named to her.I would cry for her.will give all my happiness and take all her sorrows.I will be ready to fight with anyone for her.I will be in love when I will be doing the craziest things for her.love will be when I don't have to proove anyone that my girl is the most beautiful lady on the whole planet.I will always be singing praises for her.love will be when I start up making chicken curry and end up makiing sambar.life will be the most beautiful then.will get every morning and thank god for the day because she is with me.I would like to say a lot..will tell later..\""
      ]
     },
     "execution_count": 40,
     "metadata": {},
     "output_type": "execute_result"
    }
   ],
   "source": [
    "messages[messages['length'] == 910]['message'].iloc[0]"
   ]
  },
  {
   "cell_type": "code",
   "execution_count": 41,
   "id": "bf88d9f5-ca1f-4a0c-9e6f-75ad7dd0ab75",
   "metadata": {},
   "outputs": [
    {
     "data": {
      "text/plain": [
       "array([<Axes: title={'center': 'ham'}>, <Axes: title={'center': 'spam'}>],\n",
       "      dtype=object)"
      ]
     },
     "execution_count": 41,
     "metadata": {},
     "output_type": "execute_result"
    },
    {
     "data": {
      "image/png": "[encoded data removed]",
      "text/plain": [
       "<Figure size 1200x400 with 2 Axes>"
      ]
     },
     "metadata": {},
     "output_type": "display_data"
    }
   ],
   "source": [
    "messages.hist(column='length',by ='label',bins =60, figsize=(12,4))"
   ]
  },
  {
   "cell_type": "markdown",
   "id": "832bf73e-f0e8-4d77-8313-d5a9f5449f88",
   "metadata": {},
   "source": [
    "Very interesting! Through just basic EDA we've been able to discover a trend that spam messages tend to have more characters.\n",
    "\n",
    "Now let's begin to process the data so we can eventually use it with SciKit Learn!"
   ]
  },
  {
   "cell_type": "markdown",
   "id": "0295b607-82e9-4431-b27e-2a769f44f571",
   "metadata": {},
   "source": [
    "## Text Pre-processing"
   ]
  },
  {
   "cell_type": "markdown",
   "id": "ef024330-e317-42c8-b584-b5bb8b321a41",
   "metadata": {},
   "source": [
    "Our main issue with our data is that it is all in text format (strings). The classification algorithms that we've learned about so far will need some sort of numerical feature vector in order to perform the classification task. There are actually many methods to convert a corpus to a vector format. The simplest is the the [bag-of-words](http://en.wikipedia.org/wiki/Bag-of-words_model) approach, where each unique word in a text will be represented by one number.\n",
    "\n",
    "\n",
    "In this section we'll convert the raw messages (sequence of characters) into vectors (sequences of numbers).\n",
    "\n",
    "As a first step, let's write a function that will split a message into its individual words and return a list. We'll also remove very common words, ('the', 'a', etc..). To do this we will take advantage of the NLTK library. It's pretty much the standard library in Python for processing text and has a lot of useful features. We'll only use some of the basic ones here.\n",
    "\n",
    "Let's create a function that will process the string in the message column, then we can just use **apply()** in pandas do process all the text in the DataFrame.\n",
    "\n",
    "First removing punctuation. We can just take advantage of Python's built-in **string** library to get a quick list of all the possible punctuation:"
   ]
  },
  {
   "cell_type": "code",
   "execution_count": 42,
   "id": "3d137909-cbfe-469a-8642-4ad46b7d104e",
   "metadata": {},
   "outputs": [],
   "source": [
    "import string"
   ]
  },
  {
   "cell_type": "code",
   "execution_count": 45,
   "id": "36c51c1c-b811-4a46-8531-0b1401a49c3f",
   "metadata": {},
   "outputs": [],
   "source": [
    "mess = 'Sample message! Notice: it has punctuation.'"
   ]
  },
  {
   "cell_type": "code",
   "execution_count": 46,
   "id": "96524831-c1c9-4ec0-b229-448aab7fa949",
   "metadata": {},
   "outputs": [],
   "source": [
    "nopunc =[c for c in mess if c not in string.punctuation]"
   ]
  },
  {
   "cell_type": "markdown",
   "id": "a13d02a1-8d6a-4d4b-9cce-79ffabb909ee",
   "metadata": {},
   "source": [
    "Now let's see how to remove stopwords. We can impot a list of english stopwords from NLTK"
   ]
  },
  {
   "cell_type": "code",
   "execution_count": 52,
   "id": "ec2c3f29-1cbc-4682-9e85-8c771ab28c97",
   "metadata": {},
   "outputs": [],
   "source": [
    "from nltk.corpus import stopwords"
   ]
  },
  {
   "cell_type": "code",
   "execution_count": 56,
   "id": "36cf0a5e-146c-4fed-a027-a4d8c511f6eb",
   "metadata": {},
   "outputs": [
    {
     "data": {
      "text/plain": [
       "['i',\n",
       " 'me',\n",
       " 'my',\n",
       " 'myself',\n",
       " 'we',\n",
       " 'our',\n",
       " 'ours',\n",
       " 'ourselves',\n",
       " 'you',\n",
       " \"you're\",\n",
       " \"you've\",\n",
       " \"you'll\",\n",
       " \"you'd\",\n",
       " 'your',\n",
       " 'yours',\n",
       " 'yourself',\n",
       " 'yourselves',\n",
       " 'he',\n",
       " 'him',\n",
       " 'his',\n",
       " 'himself',\n",
       " 'she',\n",
       " \"she's\",\n",
       " 'her',\n",
       " 'hers',\n",
       " 'herself',\n",
       " 'it',\n",
       " \"it's\",\n",
       " 'its',\n",
       " 'itself',\n",
       " 'they',\n",
       " 'them',\n",
       " 'their',\n",
       " 'theirs',\n",
       " 'themselves',\n",
       " 'what',\n",
       " 'which',\n",
       " 'who',\n",
       " 'whom',\n",
       " 'this',\n",
       " 'that',\n",
       " \"that'll\",\n",
       " 'these',\n",
       " 'those',\n",
       " 'am',\n",
       " 'is',\n",
       " 'are',\n",
       " 'was',\n",
       " 'were',\n",
       " 'be',\n",
       " 'been',\n",
       " 'being',\n",
       " 'have',\n",
       " 'has',\n",
       " 'had',\n",
       " 'having',\n",
       " 'do',\n",
       " 'does',\n",
       " 'did',\n",
       " 'doing',\n",
       " 'a',\n",
       " 'an',\n",
       " 'the',\n",
       " 'and',\n",
       " 'but',\n",
       " 'if',\n",
       " 'or',\n",
       " 'because',\n",
       " 'as',\n",
       " 'until',\n",
       " 'while',\n",
       " 'of',\n",
       " 'at',\n",
       " 'by',\n",
       " 'for',\n",
       " 'with',\n",
       " 'about',\n",
       " 'against',\n",
       " 'between',\n",
       " 'into',\n",
       " 'through',\n",
       " 'during',\n",
       " 'before',\n",
       " 'after',\n",
       " 'above',\n",
       " 'below',\n",
       " 'to',\n",
       " 'from',\n",
       " 'up',\n",
       " 'down',\n",
       " 'in',\n",
       " 'out',\n",
       " 'on',\n",
       " 'off',\n",
       " 'over',\n",
       " 'under',\n",
       " 'again',\n",
       " 'further',\n",
       " 'then',\n",
       " 'once',\n",
       " 'here',\n",
       " 'there',\n",
       " 'when',\n",
       " 'where',\n",
       " 'why',\n",
       " 'how',\n",
       " 'all',\n",
       " 'any',\n",
       " 'both',\n",
       " 'each',\n",
       " 'few',\n",
       " 'more',\n",
       " 'most',\n",
       " 'other',\n",
       " 'some',\n",
       " 'such',\n",
       " 'no',\n",
       " 'nor',\n",
       " 'not',\n",
       " 'only',\n",
       " 'own',\n",
       " 'same',\n",
       " 'so',\n",
       " 'than',\n",
       " 'too',\n",
       " 'very',\n",
       " 's',\n",
       " 't',\n",
       " 'can',\n",
       " 'will',\n",
       " 'just',\n",
       " 'don',\n",
       " \"don't\",\n",
       " 'should',\n",
       " \"should've\",\n",
       " 'now',\n",
       " 'd',\n",
       " 'll',\n",
       " 'm',\n",
       " 'o',\n",
       " 're',\n",
       " 've',\n",
       " 'y',\n",
       " 'ain',\n",
       " 'aren',\n",
       " \"aren't\",\n",
       " 'couldn',\n",
       " \"couldn't\",\n",
       " 'didn',\n",
       " \"didn't\",\n",
       " 'doesn',\n",
       " \"doesn't\",\n",
       " 'hadn',\n",
       " \"hadn't\",\n",
       " 'hasn',\n",
       " \"hasn't\",\n",
       " 'haven',\n",
       " \"haven't\",\n",
       " 'isn',\n",
       " \"isn't\",\n",
       " 'ma',\n",
       " 'mightn',\n",
       " \"mightn't\",\n",
       " 'mustn',\n",
       " \"mustn't\",\n",
       " 'needn',\n",
       " \"needn't\",\n",
       " 'shan',\n",
       " \"shan't\",\n",
       " 'shouldn',\n",
       " \"shouldn't\",\n",
       " 'wasn',\n",
       " \"wasn't\",\n",
       " 'weren',\n",
       " \"weren't\",\n",
       " 'won',\n",
       " \"won't\",\n",
       " 'wouldn',\n",
       " \"wouldn't\"]"
      ]
     },
     "execution_count": 56,
     "metadata": {},
     "output_type": "execute_result"
    }
   ],
   "source": [
    "stopwords.words('english')"
   ]
  },
  {
   "cell_type": "code",
   "execution_count": 59,
   "id": "470369fa-285a-4e69-81e9-50164cc1556b",
   "metadata": {},
   "outputs": [],
   "source": [
    "nopunc=''.join(nopunc)"
   ]
  },
  {
   "cell_type": "code",
   "execution_count": 66,
   "id": "2ed9141c-25d3-47af-bc81-6cebd7afbfb4",
   "metadata": {},
   "outputs": [
    {
     "data": {
      "text/plain": [
       "'Sample message Notice it has punctuation'"
      ]
     },
     "execution_count": 66,
     "metadata": {},
     "output_type": "execute_result"
    }
   ],
   "source": [
    "nopunc"
   ]
  },
  {
   "cell_type": "code",
   "execution_count": 67,
   "id": "cff5fd6c-315c-43e9-92f7-6fe899f596a5",
   "metadata": {},
   "outputs": [],
   "source": [
    "clean_mess= [word for word in nopunc.split(' ') if word not in stopwords.words('english')]"
   ]
  },
  {
   "cell_type": "code",
   "execution_count": 68,
   "id": "0320d891-69d1-44e8-a4c5-15a5da2c71b2",
   "metadata": {},
   "outputs": [
    {
     "data": {
      "text/plain": [
       "['Sample', 'message', 'Notice', 'punctuation']"
      ]
     },
     "execution_count": 68,
     "metadata": {},
     "output_type": "execute_result"
    }
   ],
   "source": [
    "clean_mess"
   ]
  },
  {
   "cell_type": "code",
   "execution_count": 71,
   "id": "3405377d-8afc-4013-a373-baa738f4cda5",
   "metadata": {},
   "outputs": [],
   "source": [
    "clean = ' '.join(clean_mess)"
   ]
  },
  {
   "cell_type": "code",
   "execution_count": 72,
   "id": "0e7e8af3-96cd-42cc-9834-4c51c7841bf4",
   "metadata": {},
   "outputs": [
    {
     "data": {
      "text/plain": [
       "'Sample message Notice punctuation'"
      ]
     },
     "execution_count": 72,
     "metadata": {},
     "output_type": "execute_result"
    }
   ],
   "source": [
    "clean"
   ]
  },
  {
   "cell_type": "code",
   "execution_count": 73,
   "id": "92753690-c56a-4dd7-a61f-f2cd96dcec30",
   "metadata": {},
   "outputs": [],
   "source": [
    "def text_process(mess):\n",
    "    \"\"\"\n",
    "    1. remove punc\n",
    "    2.remove stop words\n",
    "    3. return list of clean text words\n",
    "    \"\"\"\n",
    "    nopunc =[char for char in mess if char not in string.punctuation]\n",
    "    nopunc = ''.join(nopunc)\n",
    "    return [word for word in nopunc.split() if word.lower() not in stopwords.words('english')]"
   ]
  },
  {
   "cell_type": "code",
   "execution_count": 75,
   "id": "fee8b90b-86d5-4dfe-b3d1-d2e5c2d90f03",
   "metadata": {},
   "outputs": [
    {
     "data": {
      "text/html": [
       "<div>\n",
       "<style scoped>\n",
       "    .dataframe tbody tr th:only-of-type {\n",
       "        vertical-align: middle;\n",
       "    }\n",
       "\n",
       "    .dataframe tbody tr th {\n",
       "        vertical-align: top;\n",
       "    }\n",
       "\n",
       "    .dataframe thead th {\n",
       "        text-align: right;\n",
       "    }\n",
       "</style>\n",
       "<table border=\"1\" class=\"dataframe\">\n",
       "  <thead>\n",
       "    <tr style=\"text-align: right;\">\n",
       "      <th></th>\n",
       "      <th>label</th>\n",
       "      <th>message</th>\n",
       "      <th>length</th>\n",
       "    </tr>\n",
       "  </thead>\n",
       "  <tbody>\n",
       "    <tr>\n",
       "      <th>0</th>\n",
       "      <td>ham</td>\n",
       "      <td>Go until jurong point, crazy.. Available only ...</td>\n",
       "      <td>111</td>\n",
       "    </tr>\n",
       "    <tr>\n",
       "      <th>1</th>\n",
       "      <td>ham</td>\n",
       "      <td>Ok lar... Joking wif u oni...</td>\n",
       "      <td>29</td>\n",
       "    </tr>\n",
       "    <tr>\n",
       "      <th>2</th>\n",
       "      <td>spam</td>\n",
       "      <td>Free entry in 2 a wkly comp to win FA Cup fina...</td>\n",
       "      <td>155</td>\n",
       "    </tr>\n",
       "    <tr>\n",
       "      <th>3</th>\n",
       "      <td>ham</td>\n",
       "      <td>U dun say so early hor... U c already then say...</td>\n",
       "      <td>49</td>\n",
       "    </tr>\n",
       "    <tr>\n",
       "      <th>4</th>\n",
       "      <td>ham</td>\n",
       "      <td>Nah I don't think he goes to usf, he lives aro...</td>\n",
       "      <td>61</td>\n",
       "    </tr>\n",
       "  </tbody>\n",
       "</table>\n",
       "</div>"
      ],
      "text/plain": [
       "  label                                            message  length\n",
       "0   ham  Go until jurong point, crazy.. Available only ...     111\n",
       "1   ham                      Ok lar... Joking wif u oni...      29\n",
       "2  spam  Free entry in 2 a wkly comp to win FA Cup fina...     155\n",
       "3   ham  U dun say so early hor... U c already then say...      49\n",
       "4   ham  Nah I don't think he goes to usf, he lives aro...      61"
      ]
     },
     "execution_count": 75,
     "metadata": {},
     "output_type": "execute_result"
    }
   ],
   "source": [
    "messages.head()"
   ]
  },
  {
   "cell_type": "markdown",
   "id": "48b45331-c471-4381-823a-2f42206e6003",
   "metadata": {},
   "source": [
    "Now let's \"tokenize\" these messages. Tokenization is just the term used to describe the process of converting the normal text strings in to a list of tokens (words that we actually want).\n",
    "\n",
    "Let's see an example output on on column:\n"
   ]
  },
  {
   "cell_type": "code",
   "execution_count": 77,
   "id": "ed6c4e64-83e6-4369-bcf8-fcbe243c34ca",
   "metadata": {},
   "outputs": [
    {
     "data": {
      "text/plain": [
       "0    [Go, jurong, point, crazy, Available, bugis, n...\n",
       "1                       [Ok, lar, Joking, wif, u, oni]\n",
       "2    [Free, entry, 2, wkly, comp, win, FA, Cup, fin...\n",
       "3        [U, dun, say, early, hor, U, c, already, say]\n",
       "4    [Nah, dont, think, goes, usf, lives, around, t...\n",
       "Name: message, dtype: object"
      ]
     },
     "execution_count": 77,
     "metadata": {},
     "output_type": "execute_result"
    }
   ],
   "source": [
    "messages['message'].head(5).apply(text_process)"
   ]
  },
  {
   "cell_type": "markdown",
   "id": "b2a61d93-a6fd-4076-b897-13e008c40c23",
   "metadata": {},
   "source": [
    "### Continuing Normalization\n",
    "\n",
    "There are a lot of ways to continue normalizing this text. Such as [Stemming](https://en.wikipedia.org/wiki/Stemming) or distinguishing by [part of speech](http://www.nltk.org/book/ch05.html).\n",
    "\n",
    "NLTK has lots of built-in tools and great documentation on a lot of these methods. Sometimes they don't work well for text-messages due to the way a lot of people tend to use abbreviations or shorthand, For example:\n",
    "    \n",
    "    'Nah dawg, IDK! Wut time u headin to da club?'\n",
    "    \n",
    "versus\n",
    "\n",
    "    'No dog, I don't know! What time are you heading to the club?'\n",
    "\n",
    "For now we will just focus on using what we have to convert our list of words to an actual vector that SciKit-Learn can use."
   ]
  },
  {
   "cell_type": "markdown",
   "id": "a5e8e9a5-652e-4ad2-a8ef-bc8c28e4caea",
   "metadata": {},
   "source": [
    "## Vectorization"
   ]
  },
  {
   "cell_type": "markdown",
   "id": "36aa0a2e-3771-40f6-9ba6-27c712a80f75",
   "metadata": {},
   "source": [
    "Currently, we have the messages as lists of tokens (also known as [lemmas](http://nlp.stanford.edu/IR-book/html/htmledition/stemming-and-lemmatization-1.html)) and now we need to convert each of those messages into a vector the SciKit Learn's algorithm models can work with.\r\n",
    "\r\n",
    "Now we'll convert each message, represented as a list of tokens (lemmas) above, into a vector that machine learning models can understand.\r\n",
    "\r\n",
    "We'll do that in three steps using the bag-of-words model:\r\n",
    "\r\n",
    "1. Count how many times does a word occur in each message (Known as term frequency)\r\n",
    "\r\n",
    "2. Weigh the counts, so that frequent tokens get lower weight (inverse document frequency)\r\n",
    "\r\n",
    "3. Normalize the vectors to unit length, to abstract from the original text length (L2 norm)\r\n",
    "\r\n",
    "Let's begin the first step:"
   ]
  },
  {
   "cell_type": "markdown",
   "id": "8803a6e0-5bec-4b3b-8931-9bbb3dfd727b",
   "metadata": {},
   "source": [
    "Each vector will have as many dimensions as there are unique words in the SMS corpus.  We will first use SciKit Learn's **CountVectorizer**. This model will convert a collection of text documents to a matrix of token counts.\n",
    "\n",
    "We can imagine this as a 2-Dimensional matrix. Where the 1-dimension is the entire vocabulary (1 row per word) and the other dimension are the actual documents, in this case a column per text message. \n",
    "\n",
    "For example:\n",
    "\n",
    "<table border = “1“>\n",
    "<tr>\n",
    "<th></th> <th>Message 1</th> <th>Message 2</th> <th>...</th> <th>Message N</th> \n",
    "</tr>\n",
    "<tr>\n",
    "<td><b>Word 1 Count</b></td><td>0</td><td>1</td><td>...</td><td>0</td>\n",
    "</tr>\n",
    "<tr>\n",
    "<td><b>Word 2 Count</b></td><td>0</td><td>0</td><td>...</td><td>0</td>\n",
    "</tr>\n",
    "<tr>\n",
    "<td><b>...</b></td> <td>1</td><td>2</td><td>...</td><td>0</td>\n",
    "</tr>\n",
    "<tr>\n",
    "<td><b>Word N Count</b></td> <td>0</td><td>1</td><td>...</td><td>1</td>\n",
    "</tr>\n",
    "</table>\n",
    "\n",
    "\n",
    "Since there are so many messages, we can expect a lot of zero counts for the presence of that word in that document. Because of this, SciKit Learn will output a [Sparse Matrix](https://en.wikipedia.org/wiki/Sparse_matrix)."
   ]
  },
  {
   "cell_type": "code",
   "execution_count": 78,
   "id": "04a2e762-0868-42ef-9b64-1ebd03cb9ddc",
   "metadata": {},
   "outputs": [],
   "source": [
    " from sklearn.feature_extraction.text import CountVectorizer"
   ]
  },
  {
   "cell_type": "code",
   "execution_count": 79,
   "id": "a7b90aff-f9d4-46ee-9b7a-ef6f333c42f8",
   "metadata": {},
   "outputs": [],
   "source": [
    "bow_transformer = CountVectorizer(analyzer=text_process).fit(messages['message'])"
   ]
  },
  {
   "cell_type": "code",
   "execution_count": 80,
   "id": "6f89b5e6-ab09-4a5b-9360-9f32dca8c9f1",
   "metadata": {},
   "outputs": [
    {
     "name": "stdout",
     "output_type": "stream",
     "text": [
      "11425\n"
     ]
    }
   ],
   "source": [
    "print(len(bow_transformer.vocabulary_))"
   ]
  },
  {
   "cell_type": "code",
   "execution_count": 81,
   "id": "344fbdb9-9ced-4d09-ad7f-74c1014f7c8e",
   "metadata": {},
   "outputs": [
    {
     "data": {
      "text/plain": [
       "{'Go': 2060,\n",
       " 'jurong': 7555,\n",
       " 'point': 8917,\n",
       " 'crazy': 5769,\n",
       " 'Available': 1110,\n",
       " 'bugis': 5218,\n",
       " 'n': 8336,\n",
       " 'great': 6937,\n",
       " 'world': 11163,\n",
       " 'la': 7668,\n",
       " 'e': 6217,\n",
       " 'buffet': 5217,\n",
       " 'Cine': 1483,\n",
       " 'got': 6906,\n",
       " 'amore': 4653,\n",
       " 'wat': 10965,\n",
       " 'Ok': 3064,\n",
       " 'lar': 7701,\n",
       " 'Joking': 2451,\n",
       " 'wif': 11072,\n",
       " 'u': 10698,\n",
       " 'oni': 8590,\n",
       " 'Free': 1941,\n",
       " 'entry': 6331,\n",
       " '2': 423,\n",
       " 'wkly': 11123,\n",
       " 'comp': 5619,\n",
       " 'win': 11084,\n",
       " 'FA': 1833,\n",
       " 'Cup': 1551,\n",
       " 'final': 6557,\n",
       " 'tkts': 10512,\n",
       " '21st': 443,\n",
       " 'May': 2804,\n",
       " '2005': 430,\n",
       " 'Text': 3953,\n",
       " '87121': 871,\n",
       " 'receive': 9252,\n",
       " 'questionstd': 9159,\n",
       " 'txt': 10686,\n",
       " 'rateTCs': 9200,\n",
       " 'apply': 4731,\n",
       " '08452810075over18s': 73,\n",
       " 'U': 4068,\n",
       " 'dun': 6204,\n",
       " 'say': 9554,\n",
       " 'early': 6222,\n",
       " 'hor': 7186,\n",
       " 'c': 5261,\n",
       " 'already': 4629,\n",
       " 'Nah': 2948,\n",
       " 'dont': 6123,\n",
       " 'think': 10433,\n",
       " 'goes': 6877,\n",
       " 'usf': 10799,\n",
       " 'lives': 7842,\n",
       " 'around': 4777,\n",
       " 'though': 10450,\n",
       " 'FreeMsg': 1943,\n",
       " 'Hey': 2222,\n",
       " 'darling': 5864,\n",
       " '3': 543,\n",
       " 'weeks': 11011,\n",
       " 'word': 11150,\n",
       " 'back': 4893,\n",
       " 'Id': 2346,\n",
       " 'like': 7800,\n",
       " 'fun': 6755,\n",
       " 'still': 10093,\n",
       " 'Tb': 3930,\n",
       " 'ok': 8567,\n",
       " 'XxX': 4379,\n",
       " 'std': 10073,\n",
       " 'chgs': 5467,\n",
       " 'send': 9641,\n",
       " '£150': 11371,\n",
       " 'rcv': 9209,\n",
       " 'Even': 1802,\n",
       " 'brother': 5193,\n",
       " 'speak': 9971,\n",
       " 'treat': 10629,\n",
       " 'aids': 4590,\n",
       " 'patent': 8761,\n",
       " 'per': 8796,\n",
       " 'request': 9356,\n",
       " 'Melle': 2814,\n",
       " 'Oru': 3098,\n",
       " 'Minnaminunginte': 2833,\n",
       " 'Nurungu': 3023,\n",
       " 'Vettam': 4170,\n",
       " 'set': 9664,\n",
       " 'callertune': 5292,\n",
       " 'Callers': 1421,\n",
       " 'Press': 3278,\n",
       " '9': 909,\n",
       " 'copy': 5716,\n",
       " 'friends': 6719,\n",
       " 'Callertune': 1422,\n",
       " 'WINNER': 4221,\n",
       " 'valued': 10828,\n",
       " 'network': 8406,\n",
       " 'customer': 5820,\n",
       " 'selected': 9628,\n",
       " 'receivea': 9253,\n",
       " '£900': 11412,\n",
       " 'prize': 9058,\n",
       " 'reward': 9413,\n",
       " 'claim': 5519,\n",
       " 'call': 5275,\n",
       " '09061701461': 219,\n",
       " 'Claim': 1485,\n",
       " 'code': 5574,\n",
       " 'KL341': 2477,\n",
       " 'Valid': 4161,\n",
       " '12': 326,\n",
       " 'hours': 7201,\n",
       " 'mobile': 8216,\n",
       " '11': 315,\n",
       " 'months': 8251,\n",
       " 'R': 3321,\n",
       " 'entitled': 6328,\n",
       " 'Update': 4128,\n",
       " 'latest': 7716,\n",
       " 'colour': 5594,\n",
       " 'mobiles': 8217,\n",
       " 'camera': 5304,\n",
       " 'Call': 1417,\n",
       " 'Mobile': 2852,\n",
       " 'Co': 1492,\n",
       " 'FREE': 1865,\n",
       " '08002986030': 58,\n",
       " 'Im': 2352,\n",
       " 'gonna': 6890,\n",
       " 'home': 7159,\n",
       " 'soon': 9931,\n",
       " 'want': 10945,\n",
       " 'talk': 10303,\n",
       " 'stuff': 10153,\n",
       " 'anymore': 4701,\n",
       " 'tonight': 10557,\n",
       " 'k': 7561,\n",
       " 'Ive': 2394,\n",
       " 'cried': 5783,\n",
       " 'enough': 6319,\n",
       " 'today': 10524,\n",
       " 'SIX': 3495,\n",
       " 'chances': 5411,\n",
       " 'CASH': 1353,\n",
       " '100': 294,\n",
       " '20000': 427,\n",
       " 'pounds': 8975,\n",
       " 'CSH11': 1405,\n",
       " '87575': 875,\n",
       " 'Cost': 1524,\n",
       " '150pday': 364,\n",
       " '6days': 763,\n",
       " '16': 382,\n",
       " 'TsandCs': 4048,\n",
       " 'Reply': 3414,\n",
       " 'HL': 2139,\n",
       " '4': 605,\n",
       " 'info': 7354,\n",
       " 'URGENT': 4090,\n",
       " '1': 292,\n",
       " 'week': 11006,\n",
       " 'membership': 8110,\n",
       " '£100000': 11365,\n",
       " 'Prize': 3283,\n",
       " 'Jackpot': 2421,\n",
       " 'Txt': 4062,\n",
       " 'CLAIM': 1378,\n",
       " '81010': 821,\n",
       " 'TC': 3847,\n",
       " 'wwwdbuknet': 11231,\n",
       " 'LCCLTD': 2551,\n",
       " 'POBOX': 3138,\n",
       " '4403LDNW1A7RW18': 626,\n",
       " 'searching': 9597,\n",
       " 'right': 9422,\n",
       " 'words': 11154,\n",
       " 'thank': 10392,\n",
       " 'breather': 5166,\n",
       " 'promise': 9092,\n",
       " 'wont': 11145,\n",
       " 'take': 10295,\n",
       " 'help': 7089,\n",
       " 'granted': 6929,\n",
       " 'fulfil': 6751,\n",
       " 'wonderful': 11142,\n",
       " 'blessing': 5075,\n",
       " 'times': 10491,\n",
       " 'DATE': 1568,\n",
       " 'SUNDAY': 3567,\n",
       " 'XXXMobileMovieClub': 4370,\n",
       " 'use': 10793,\n",
       " 'credit': 5774,\n",
       " 'click': 5540,\n",
       " 'WAP': 4200,\n",
       " 'link': 7818,\n",
       " 'next': 8420,\n",
       " 'message': 8133,\n",
       " 'httpwap': 7224,\n",
       " 'xxxmobilemovieclubcomnQJKGIGHJJGCBL': 11273,\n",
       " 'Oh': 3059,\n",
       " 'kim': 7618,\n",
       " 'watching': 10970,\n",
       " 'Eh': 1769,\n",
       " 'remember': 9319,\n",
       " 'spell': 9985,\n",
       " 'name': 8348,\n",
       " 'Yes': 4425,\n",
       " 'v': 10816,\n",
       " 'naughty': 8368,\n",
       " 'make': 8000,\n",
       " 'wet': 11040,\n",
       " 'Fine': 1914,\n",
       " 'that\\x92s': 10405,\n",
       " 'way': 10979,\n",
       " 'feel': 6517,\n",
       " 'That\\x92s': 3964,\n",
       " 'gota': 6907,\n",
       " 'b': 4880,\n",
       " 'England': 1784,\n",
       " 'Macedonia': 2772,\n",
       " 'miss': 8191,\n",
       " 'goalsteam': 6870,\n",
       " 'news': 8415,\n",
       " 'ur': 10777,\n",
       " 'national': 8362,\n",
       " 'team': 10338,\n",
       " '87077': 870,\n",
       " 'eg': 6258,\n",
       " 'ENGLAND': 1728,\n",
       " 'TryWALES': 4042,\n",
       " 'SCOTLAND': 3460,\n",
       " '4txtú120': 677,\n",
       " 'POBOXox36504W45WQ': 3141,\n",
       " 'seriously': 9658,\n",
       " 'I‘m': 2401,\n",
       " 'going': 6882,\n",
       " 'try': 10655,\n",
       " 'ha': 6992,\n",
       " 'joking': 7534,\n",
       " 'ü': 11418,\n",
       " 'pay': 8769,\n",
       " 'first': 6584,\n",
       " 'da': 5832,\n",
       " 'stock': 10097,\n",
       " 'comin': 5609,\n",
       " 'Aft': 1019,\n",
       " 'finish': 6570,\n",
       " 'lunch': 7947,\n",
       " 'go': 6864,\n",
       " 'str': 10117,\n",
       " 'lor': 7888,\n",
       " 'Ard': 1084,\n",
       " 'smth': 9881,\n",
       " 'Ffffffffff': 1905,\n",
       " 'Alright': 1053,\n",
       " 'meet': 8092,\n",
       " 'sooner': 9932,\n",
       " 'forced': 6655,\n",
       " 'eat': 6234,\n",
       " 'slice': 9836,\n",
       " 'really': 9234,\n",
       " 'hungry': 7249,\n",
       " 'tho': 10446,\n",
       " 'sucks': 10186,\n",
       " 'Mark': 2794,\n",
       " 'getting': 6832,\n",
       " 'worried': 11169,\n",
       " 'knows': 7643,\n",
       " 'sick': 9764,\n",
       " 'turn': 10672,\n",
       " 'pizza': 8869,\n",
       " 'Lol': 2648,\n",
       " 'always': 4641,\n",
       " 'convincing': 5703,\n",
       " 'catch': 5374,\n",
       " 'bus': 5237,\n",
       " 'frying': 6741,\n",
       " 'egg': 6260,\n",
       " 'tea': 10332,\n",
       " 'eating': 6237,\n",
       " 'moms': 8235,\n",
       " 'left': 7748,\n",
       " 'dinner': 6045,\n",
       " 'Love': 2661,\n",
       " 'amp': 4655,\n",
       " 'packing': 8693,\n",
       " 'car': 5331,\n",
       " 'Ill': 2350,\n",
       " 'let': 7769,\n",
       " 'know': 7639,\n",
       " 'theres': 10421,\n",
       " 'room': 9460,\n",
       " 'Ahhh': 1028,\n",
       " 'Work': 4345,\n",
       " 'vaguely': 10819,\n",
       " 'Wait': 4256,\n",
       " 'thats': 10404,\n",
       " 'clear': 5534,\n",
       " 'sure': 10237,\n",
       " 'sarcastic': 9536,\n",
       " 'x': 11260,\n",
       " 'doesnt': 6099,\n",
       " 'live': 7839,\n",
       " 'us': 10787,\n",
       " 'Yeah': 4416,\n",
       " 'apologetic': 4719,\n",
       " 'fallen': 6468,\n",
       " 'actin': 4509,\n",
       " 'spoilt': 10005,\n",
       " 'child': 5483,\n",
       " 'caught': 5378,\n",
       " 'Till': 3997,\n",
       " 'badly': 4898,\n",
       " 'cheers': 5450,\n",
       " 'K': 2468,\n",
       " 'tell': 10354,\n",
       " 'anything': 4707,\n",
       " 'fear': 6509,\n",
       " 'fainting': 6459,\n",
       " 'housework': 7205,\n",
       " 'Quick': 3316,\n",
       " 'cuppa': 5810,\n",
       " 'Thanks': 3958,\n",
       " 'subscription': 10176,\n",
       " 'Ringtone': 3424,\n",
       " 'UK': 4074,\n",
       " 'charged': 5423,\n",
       " '£5month': 11404,\n",
       " 'Please': 3235,\n",
       " 'confirm': 5661,\n",
       " 'replying': 9351,\n",
       " 'YES': 4388,\n",
       " 'reply': 9349,\n",
       " 'Yup': 4450,\n",
       " 'look': 7880,\n",
       " 'timings': 10497,\n",
       " 'msg': 8283,\n",
       " 'Xuhui': 4377,\n",
       " 'learn': 7737,\n",
       " '2nd': 526,\n",
       " 'may': 8065,\n",
       " 'lesson': 7767,\n",
       " '8am': 903,\n",
       " 'Oops': 3085,\n",
       " 'roommates': 9463,\n",
       " 'done': 6120,\n",
       " 'see': 9613,\n",
       " 'letter': 7771,\n",
       " 'B': 1120,\n",
       " 'Anything': 1070,\n",
       " 'decide': 5915,\n",
       " 'Hello': 2209,\n",
       " 'Hows': 2279,\n",
       " 'saturday': 9546,\n",
       " 'texting': 10383,\n",
       " 'youd': 11318,\n",
       " 'decided': 5916,\n",
       " 'tomo': 10546,\n",
       " 'im': 7307,\n",
       " 'trying': 10657,\n",
       " 'invite': 7410,\n",
       " 'Pls': 3237,\n",
       " 'ahead': 4582,\n",
       " 'watts': 10977,\n",
       " 'wanted': 10947,\n",
       " 'weekend': 11008,\n",
       " 'Abiola': 999,\n",
       " 'forget': 6661,\n",
       " 'need': 8386,\n",
       " 'crave': 5766,\n",
       " 'love': 7913,\n",
       " 'sweet': 10261,\n",
       " 'Arabian': 1082,\n",
       " 'steed': 10079,\n",
       " 'Mmmmmm': 2846,\n",
       " 'Yummy': 4447,\n",
       " '07732584351': 29,\n",
       " 'Rodger': 3430,\n",
       " 'Burns': 1329,\n",
       " 'MSG': 2757,\n",
       " 'tried': 10638,\n",
       " 'sms': 9876,\n",
       " 'free': 6699,\n",
       " 'nokia': 8455,\n",
       " 'camcorder': 5302,\n",
       " '08000930705': 54,\n",
       " 'delivery': 5950,\n",
       " 'tomorrow': 10549,\n",
       " 'SEEING': 3464,\n",
       " 'Great': 2088,\n",
       " 'hope': 7177,\n",
       " 'man': 8009,\n",
       " 'well': 11023,\n",
       " 'endowed': 6303,\n",
       " 'ltgt': 7939,\n",
       " 'inches': 7333,\n",
       " 'callsmessagesmissed': 5298,\n",
       " 'calls': 5297,\n",
       " 'Didnt': 1663,\n",
       " 'get': 6824,\n",
       " 'hep': 7098,\n",
       " 'immunisation': 7315,\n",
       " 'nigeria': 8427,\n",
       " 'Fair': 1893,\n",
       " 'hopefully': 7182,\n",
       " 'tyler': 10692,\n",
       " 'cant': 5320,\n",
       " 'could': 5738,\n",
       " 'maybe': 8067,\n",
       " 'ask': 4799,\n",
       " 'bit': 5053,\n",
       " 'stubborn': 10143,\n",
       " 'didnt': 6014,\n",
       " 'even': 6369,\n",
       " 'hospital': 7192,\n",
       " 'kept': 7594,\n",
       " 'telling': 10355,\n",
       " 'weak': 10983,\n",
       " 'sucker': 10184,\n",
       " 'Hospitals': 2271,\n",
       " 'suckers': 10185,\n",
       " 'thinked': 10435,\n",
       " 'First': 1918,\n",
       " 'time': 10487,\n",
       " 'saw': 9553,\n",
       " 'class': 5527,\n",
       " 'gram': 6923,\n",
       " 'usually': 10805,\n",
       " 'runs': 9495,\n",
       " 'half': 7004,\n",
       " 'eighth': 6267,\n",
       " 'smarter': 9858,\n",
       " 'gets': 6828,\n",
       " 'almost': 4625,\n",
       " 'whole': 11063,\n",
       " 'second': 9601,\n",
       " 'fyi': 6768,\n",
       " 'ride': 9421,\n",
       " 'morning': 8256,\n",
       " 'hes': 7109,\n",
       " 'crashing': 5765,\n",
       " 'place': 8870,\n",
       " 'Wow': 4352,\n",
       " 'never': 8410,\n",
       " 'realized': 9232,\n",
       " 'embarassed': 6287,\n",
       " 'accomodations': 4492,\n",
       " 'thought': 10451,\n",
       " 'liked': 7801,\n",
       " 'since': 9788,\n",
       " 'best': 5014,\n",
       " 'seemed': 9619,\n",
       " 'happy': 7035,\n",
       " 'cave': 5382,\n",
       " 'sorry': 9941,\n",
       " 'give': 6850,\n",
       " 'offered': 8547,\n",
       " 'embarassing': 6288,\n",
       " 'SMS': 3506,\n",
       " 'ac': 4478,\n",
       " 'Sptv': 3762,\n",
       " 'New': 2968,\n",
       " 'Jersey': 2441,\n",
       " 'Devils': 1657,\n",
       " 'Detroit': 1656,\n",
       " 'Red': 3394,\n",
       " 'Wings': 4322,\n",
       " 'play': 8884,\n",
       " 'Ice': 2344,\n",
       " 'Hockey': 2249,\n",
       " 'Correct': 1522,\n",
       " 'Incorrect': 2360,\n",
       " 'End': 1782,\n",
       " 'END': 1726,\n",
       " 'SPTV': 3538,\n",
       " 'Mallika': 2784,\n",
       " 'Sherawat': 3653,\n",
       " 'yesterday': 11299,\n",
       " 'Find': 1913,\n",
       " 'ltURLgt': 7938,\n",
       " 'Congrats': 1513,\n",
       " 'year': 11290,\n",
       " 'special': 9973,\n",
       " 'cinema': 5515,\n",
       " 'pass': 8750,\n",
       " '09061209465': 214,\n",
       " 'C': 1337,\n",
       " 'Suprman': 3821,\n",
       " 'V': 4145,\n",
       " 'Matrix3': 2801,\n",
       " 'StarWars3': 3771,\n",
       " 'etc': 6359,\n",
       " 'bx420ip45we': 5256,\n",
       " '150pm': 365,\n",
       " 'Dont': 1694,\n",
       " 'Sorry': 3735,\n",
       " 'later': 7714,\n",
       " 'meeting': 8094,\n",
       " 'Tell': 3942,\n",
       " 'reached': 9216,\n",
       " 'Yesgauti': 4428,\n",
       " 'sehwag': 9625,\n",
       " 'odi': 8541,\n",
       " 'series': 9656,\n",
       " 'pick': 8844,\n",
       " 'burger': 5229,\n",
       " 'move': 8270,\n",
       " 'Pain': 3180,\n",
       " 'killing': 7615,\n",
       " 'Ha': 2168,\n",
       " 'good': 6892,\n",
       " 'joke': 7529,\n",
       " 'Girls': 2055,\n",
       " 'situation': 9808,\n",
       " 'seekers': 9616,\n",
       " 'part': 8739,\n",
       " 'checking': 5447,\n",
       " 'IQ': 2329,\n",
       " 'took': 10566,\n",
       " 'forever': 6658,\n",
       " 'come': 5601,\n",
       " 'double': 6134,\n",
       " 'check': 5444,\n",
       " 'hair': 7001,\n",
       " 'dresser': 6162,\n",
       " 'said': 9512,\n",
       " 'wun': 11208,\n",
       " 'cut': 5823,\n",
       " 'short': 9730,\n",
       " 'nice': 8423,\n",
       " 'pleased': 8895,\n",
       " 'advise': 4547,\n",
       " 'following': 6639,\n",
       " 'recent': 9256,\n",
       " 'review': 9411,\n",
       " 'Mob': 2849,\n",
       " 'awarded': 4873,\n",
       " '£1500': 11372,\n",
       " 'Bonus': 1282,\n",
       " '09066364589': 263,\n",
       " 'Today': 4011,\n",
       " 'song': 9927,\n",
       " 'dedicated': 5925,\n",
       " 'day': 5881,\n",
       " 'dedicate': 5924,\n",
       " 'Send': 3623,\n",
       " 'valuable': 10825,\n",
       " 'frnds': 6728,\n",
       " 'rply': 9476,\n",
       " 'Urgent': 4135,\n",
       " 'UR': 4087,\n",
       " 'complimentary': 5636,\n",
       " 'trip': 10639,\n",
       " 'EuroDisinc': 1799,\n",
       " 'Trav': 4032,\n",
       " 'AcoEntry41': 1008,\n",
       " '£1000': 11363,\n",
       " 'DIS': 1587,\n",
       " '186£150moreFrmMob': 391,\n",
       " 'ShrAcomOrSglSuplt10': 3673,\n",
       " 'LS1': 2589,\n",
       " '3AJ': 576,\n",
       " 'hear': 7066,\n",
       " 'new': 8413,\n",
       " 'Divorce': 1679,\n",
       " 'Barbie': 1225,\n",
       " 'comes': 5605,\n",
       " 'Kens': 2497,\n",
       " 'plane': 8877,\n",
       " 'month': 8248,\n",
       " 'end': 6298,\n",
       " 'Wah': 4254,\n",
       " 'lucky': 7944,\n",
       " 'save': 9549,\n",
       " 'money': 8241,\n",
       " 'Hee': 2203,\n",
       " 'Finished': 1917,\n",
       " 'HI': 2135,\n",
       " 'BABE': 1124,\n",
       " 'IM': 2308,\n",
       " 'HOME': 2145,\n",
       " 'WANNA': 4197,\n",
       " 'SOMETHING': 3515,\n",
       " 'XX': 4367,\n",
       " 'Kkwhere': 2527,\n",
       " 'youhow': 11321,\n",
       " 'performed': 8803,\n",
       " 'waiting': 10924,\n",
       " 'machan': 7969,\n",
       " 'Thats': 3963,\n",
       " 'cool': 5709,\n",
       " 'gentleman': 6818,\n",
       " 'dignity': 6036,\n",
       " 'respect': 9377,\n",
       " 'peoples': 8795,\n",
       " 'much': 8299,\n",
       " 'shy': 9760,\n",
       " 'pa': 8688,\n",
       " 'operate': 8606,\n",
       " 'Still': 3783,\n",
       " 'looking': 7883,\n",
       " 'job': 7516,\n",
       " 'Tas': 3927,\n",
       " 'earn': 6223,\n",
       " 'ah': 4580,\n",
       " 'hi': 7116,\n",
       " 'stop': 10106,\n",
       " 'urgnt': 10782,\n",
       " 'real': 9226,\n",
       " 'yo': 11308,\n",
       " 'tickets': 10478,\n",
       " 'one': 8586,\n",
       " 'jacket': 7477,\n",
       " 'used': 10794,\n",
       " 'multis': 8307,\n",
       " 'started': 10054,\n",
       " 'requests': 9357,\n",
       " 'pain': 8700,\n",
       " 'came': 5303,\n",
       " 'bed': 4973,\n",
       " 'Double': 1700,\n",
       " 'coins': 5580,\n",
       " 'factory': 6451,\n",
       " 'gotta': 6910,\n",
       " 'cash': 5363,\n",
       " 'nitros': 8445,\n",
       " 'babe': 4885,\n",
       " 'Ela': 1772,\n",
       " 'kanoil': 7577,\n",
       " 'download': 6140,\n",
       " 'wen': 11028,\n",
       " 'Don‘t': 1697,\n",
       " 'stand': 10043,\n",
       " 'close': 5546,\n",
       " 'you‘ll': 11338,\n",
       " 'something': 9915,\n",
       " 'another': 4686,\n",
       " 'night': 8428,\n",
       " 'spent': 9990,\n",
       " 'late': 7709,\n",
       " 'afternoon': 4563,\n",
       " 'casualty': 5372,\n",
       " 'means': 8083,\n",
       " 'havent': 7051,\n",
       " 'stuff42moro': 10154,\n",
       " 'includes': 7336,\n",
       " 'sheets': 9699,\n",
       " 'Smile': 3713,\n",
       " 'Pleasure': 3236,\n",
       " 'trouble': 10644,\n",
       " 'pours': 8977,\n",
       " 'Rain': 3368,\n",
       " 'sum1': 10204,\n",
       " 'Hurts': 2289,\n",
       " 'becoz': 4971,\n",
       " 'SOMEONE': 3513,\n",
       " 'Loves': 2667,\n",
       " 'Smiling': 3715,\n",
       " 'service': 9661,\n",
       " 'representative': 9354,\n",
       " '0800': 50,\n",
       " '169': 384,\n",
       " '6031': 726,\n",
       " '10am9pm': 309,\n",
       " 'guaranteed': 6969,\n",
       " '£5000': 11399,\n",
       " 'Havent': 2194,\n",
       " 'planning': 8881,\n",
       " 'buy': 5248,\n",
       " 'lido': 7783,\n",
       " '530': 697,\n",
       " 'show': 9744,\n",
       " 'work': 11155,\n",
       " 'ringtone': 9429,\n",
       " 'collected': 5587,\n",
       " 'Simply': 3683,\n",
       " 'text': 10378,\n",
       " 'password': 8758,\n",
       " 'MIX': 2732,\n",
       " '85069': 856,\n",
       " 'verify': 10846,\n",
       " 'Get': 2047,\n",
       " 'Usher': 4140,\n",
       " 'Britney': 1315,\n",
       " 'FML': 1857,\n",
       " 'PO': 3136,\n",
       " 'Box': 1292,\n",
       " '5249': 694,\n",
       " 'MK17': 2733,\n",
       " '92H': 914,\n",
       " '450Ppw': 636,\n",
       " 'Watching': 4277,\n",
       " 'telugu': 10359,\n",
       " 'moviewat': 8275,\n",
       " 'abt': 4474,\n",
       " 'loads': 7850,\n",
       " 'loans': 7852,\n",
       " 'Hi': 2225,\n",
       " 'Wk': 4331,\n",
       " 'hols': 7157,\n",
       " 'run': 9492,\n",
       " 'Forgot': 1934,\n",
       " 'hairdressers': 7003,\n",
       " 'appointment': 4735,\n",
       " 'four': 6685,\n",
       " 'shower': 9746,\n",
       " 'beforehand': 4985,\n",
       " 'cause': 5379,\n",
       " 'prob': 9062,\n",
       " 'cup': 5808,\n",
       " 'coffee': 5575,\n",
       " 'animation': 4673,\n",
       " 'nothing': 8480,\n",
       " 'else': 6282,\n",
       " 'Okay': 3065,\n",
       " 'price': 9038,\n",
       " 'long': 7876,\n",
       " 'legal': 7751,\n",
       " 'Wen': 4295,\n",
       " 'ave': 4861,\n",
       " 'ams': 4657,\n",
       " 'xx': 11270,\n",
       " 'gone': 6888,\n",
       " '4the': 675,\n",
       " 'driving': 6171,\n",
       " 'test': 10374,\n",
       " 'yet': 11300,\n",
       " 'wow': 11184,\n",
       " 'Youre': 4443,\n",
       " 'mean': 8079,\n",
       " 'guess': 6973,\n",
       " 'gave': 6799,\n",
       " 'boston': 5126,\n",
       " 'men': 8115,\n",
       " 'changed': 5413,\n",
       " 'search': 9596,\n",
       " 'location': 7855,\n",
       " 'nyc': 8519,\n",
       " 'Cuz': 1560,\n",
       " 'signin': 9774,\n",
       " 'page': 8696,\n",
       " 'says': 9559,\n",
       " 'Umma': 4110,\n",
       " 'life': 7786,\n",
       " 'vava': 10836,\n",
       " 'umma': 10711,\n",
       " 'lot': 7897,\n",
       " 'dear': 5902,\n",
       " 'wishes': 11104,\n",
       " 'birthday': 5051,\n",
       " 'making': 8004,\n",
       " 'truly': 10651,\n",
       " 'memorable': 8112,\n",
       " 'Aight': 1031,\n",
       " 'hit': 7135,\n",
       " 'would': 11180,\n",
       " 'ip': 7418,\n",
       " 'address': 4524,\n",
       " 'considering': 5678,\n",
       " 'computer': 5642,\n",
       " 'isnt': 7440,\n",
       " 'minecraft': 8170,\n",
       " 'server': 9660,\n",
       " 'Grumpy': 2092,\n",
       " 'old': 8580,\n",
       " 'people': 8794,\n",
       " 'mom': 8232,\n",
       " 'better': 5020,\n",
       " 'lying': 7960,\n",
       " 'jokes': 7531,\n",
       " 'worry': 11171,\n",
       " 'busy': 5243,\n",
       " 'plural': 8905,\n",
       " 'noun': 8487,\n",
       " 'research': 9363,\n",
       " 'Going': 2066,\n",
       " 'dinnermsg': 6046,\n",
       " 'cos': 5727,\n",
       " 'things': 10432,\n",
       " 'scared': 9565,\n",
       " 'mah': 7990,\n",
       " 'Cos': 1523,\n",
       " 'loud': 7908,\n",
       " 'GENT': 1979,\n",
       " 'contact': 5683,\n",
       " 'Last': 2607,\n",
       " 'weekends': 11009,\n",
       " 'draw': 6150,\n",
       " 'shows': 9751,\n",
       " 'GUARANTEED': 2022,\n",
       " '09064012160': 238,\n",
       " 'Code': 1494,\n",
       " 'K52': 2469,\n",
       " '12hrs': 338,\n",
       " '150ppm': 370,\n",
       " 'Wa': 4252,\n",
       " 'openin': 8603,\n",
       " 'sentence': 9650,\n",
       " 'formal': 6669,\n",
       " 'Anyway': 1072,\n",
       " 'fine': 6565,\n",
       " 'juz': 7560,\n",
       " 'tt': 10661,\n",
       " 'eatin': 6236,\n",
       " 'puttin': 9143,\n",
       " 'weightHaha': 11016,\n",
       " 'anythin': 4706,\n",
       " 'happened': 7027,\n",
       " 'entered': 6321,\n",
       " 'cabin': 5263,\n",
       " 'PA': 3104,\n",
       " 'Happy': 2186,\n",
       " 'Bday': 1232,\n",
       " 'Boss': 1290,\n",
       " 'felt': 6526,\n",
       " 'askd': 4800,\n",
       " 'invited': 7411,\n",
       " 'apartment': 4715,\n",
       " 'went': 11030,\n",
       " 'winner': 11094,\n",
       " 'specially': 9977,\n",
       " 'holiday': 7153,\n",
       " 'flights': 6609,\n",
       " 'inc': 7331,\n",
       " 'operator': 8607,\n",
       " '0871277810910pmin': 123,\n",
       " '18': 387,\n",
       " 'Goodo': 2075,\n",
       " 'must': 8324,\n",
       " 'friday': 6712,\n",
       " 'eggpotato': 6261,\n",
       " 'ratio': 9203,\n",
       " 'tortilla': 10583,\n",
       " 'needed': 8388,\n",
       " 'Hmmmy': 2246,\n",
       " 'uncle': 10716,\n",
       " 'informed': 7358,\n",
       " 'paying': 8773,\n",
       " 'school': 9571,\n",
       " 'directly': 6050,\n",
       " 'pls': 8901,\n",
       " 'food': 6645,\n",
       " 'PRIVATE': 3166,\n",
       " '2004': 429,\n",
       " 'Account': 1004,\n",
       " 'Statement': 3776,\n",
       " '07742676969': 31,\n",
       " '786': 788,\n",
       " 'unredeemed': 10754,\n",
       " 'Points': 3251,\n",
       " '08719180248': 171,\n",
       " 'Identifier': 2348,\n",
       " '45239': 639,\n",
       " 'Expires': 1825,\n",
       " '£2000': 11384,\n",
       " 'Caller': 1420,\n",
       " '5903': 702,\n",
       " 'Landline': 2602,\n",
       " '09064019788': 244,\n",
       " 'BOX42WR29C': 1185,\n",
       " '150PPM': 355,\n",
       " 'applespairsall': 4729,\n",
       " 'malarky': 8006,\n",
       " 'Todays': 4012,\n",
       " 'Voda': 4179,\n",
       " 'numbers': 8510,\n",
       " 'ending': 6300,\n",
       " '7548': 783,\n",
       " '350': 566,\n",
       " 'award': 4872,\n",
       " 'match': 8046,\n",
       " 'please': 8894,\n",
       " '08712300220': 105,\n",
       " 'quoting': 9170,\n",
       " '4041': 610,\n",
       " 'standard': 10044,\n",
       " 'rates': 9201,\n",
       " 'app': 4723,\n",
       " 'sao': 9531,\n",
       " 'mu': 8298,\n",
       " 'Ü': 11415,\n",
       " 'predict': 9005,\n",
       " 'üll': 11419,\n",
       " 'buying': 5251,\n",
       " 'Good': 2070,\n",
       " 'knowyetunde': 7646,\n",
       " 'hasnt': 7042,\n",
       " 'sent': 9649,\n",
       " 'bother': 5128,\n",
       " 'sending': 9642,\n",
       " 'involve': 7415,\n",
       " 'shouldnt': 9738,\n",
       " 'imposed': 7321,\n",
       " 'apologise': 4720,\n",
       " 'HEY': 2131,\n",
       " 'GIRL': 1985,\n",
       " 'HOPE': 2149,\n",
       " 'WELL': 4207,\n",
       " 'DEL': 1580,\n",
       " 'BAK': 1134,\n",
       " 'LONG': 2575,\n",
       " 'TIME': 3883,\n",
       " 'GIVE': 1988,\n",
       " 'CALL': 1341,\n",
       " 'SUM': 3564,\n",
       " 'LUCYxx': 2595,\n",
       " 'Kkhow': 2521,\n",
       " 'cost': 5729,\n",
       " 'Dear': 1634,\n",
       " 'Tmorrowpls': 4005,\n",
       " 'accomodate': 4491,\n",
       " 'answer': 4689,\n",
       " 'question': 9156,\n",
       " 'Sunshine': 3817,\n",
       " 'Quiz': 3318,\n",
       " 'Wkly': 4332,\n",
       " 'Q': 3304,\n",
       " 'Win': 4320,\n",
       " 'top': 10574,\n",
       " 'Sony': 3732,\n",
       " 'DVD': 1614,\n",
       " 'player': 8886,\n",
       " 'country': 5744,\n",
       " 'Algarve': 1047,\n",
       " 'ansr': 4688,\n",
       " '82277': 827,\n",
       " 'SPTyrone': 3539,\n",
       " 'Want': 4267,\n",
       " 'laid': 7681,\n",
       " 'Dogging': 1688,\n",
       " 'locations': 7856,\n",
       " 'direct': 6049,\n",
       " 'mob': 8215,\n",
       " 'Join': 2447,\n",
       " 'UKs': 4077,\n",
       " 'largest': 7703,\n",
       " 'Network': 2963,\n",
       " 'bt': 5207,\n",
       " 'Txting': 4065,\n",
       " 'GRAVEL': 2018,\n",
       " '69888': 752,\n",
       " 'Nt': 3020,\n",
       " 'ec2a': 6239,\n",
       " '31pmsg150p': 559,\n",
       " 'haf': 6997,\n",
       " 'msn': 8293,\n",
       " 'yijuehotmailcom': 11306,\n",
       " 'rooms': 9464,\n",
       " 'befor': 4984,\n",
       " 'activities': 4514,\n",
       " 'Youll': 4442,\n",
       " 'msgs': 8286,\n",
       " 'chat': 5435,\n",
       " 'svc': 10252,\n",
       " 'Hardcore': 2188,\n",
       " 'services': 9662,\n",
       " 'GO': 1993,\n",
       " '69988': 756,\n",
       " 'Age': 1025,\n",
       " 'Verify': 4169,\n",
       " 'yr': 11341,\n",
       " 'Got': 2080,\n",
       " 'lazy': 7731,\n",
       " 'type': 10694,\n",
       " 'forgot': 6666,\n",
       " 'lect': 7745,\n",
       " 'pouch': 8972,\n",
       " 'youre': 11329,\n",
       " 'Sir': 3690,\n",
       " 'Waiting': 4259,\n",
       " 'mail': 7993,\n",
       " 'swt': 10273,\n",
       " 'Nver': 3025,\n",
       " 'tired': 10501,\n",
       " 'little': 7838,\n",
       " 'lovable': 7912,\n",
       " 'persons': 8817,\n",
       " 'Cozsomtimes': 1532,\n",
       " 'occupy': 8535,\n",
       " 'biggest': 5035,\n",
       " 'Hearts': 2202,\n",
       " 'Gud': 2096,\n",
       " 'ni8': 8421,\n",
       " 'open': 8600,\n",
       " 'ya': 11279,\n",
       " 'dot': 6133,\n",
       " 'Whats': 4304,\n",
       " 'staff': 10034,\n",
       " 'taking': 10300,\n",
       " 'replied': 9347,\n",
       " 'Randy': 3375,\n",
       " 'sexy': 9676,\n",
       " 'female': 6527,\n",
       " 'local': 7854,\n",
       " 'Luv': 2680,\n",
       " 'Netcollex': 2962,\n",
       " ...}"
      ]
     },
     "execution_count": 81,
     "metadata": {},
     "output_type": "execute_result"
    }
   ],
   "source": [
    "bow_transformer.vocabulary_"
   ]
  },
  {
   "cell_type": "code",
   "execution_count": 86,
   "id": "8707818e-ec68-40cc-87e3-1444a90db006",
   "metadata": {},
   "outputs": [],
   "source": [
    "mess4 = messages['message'][3]"
   ]
  },
  {
   "cell_type": "code",
   "execution_count": 87,
   "id": "eac9e662-93e7-47da-ae63-cd9bebf9b193",
   "metadata": {},
   "outputs": [
    {
     "name": "stdout",
     "output_type": "stream",
     "text": [
      "U dun say so early hor... U c already then say...\n"
     ]
    }
   ],
   "source": [
    "print(mess4)"
   ]
  },
  {
   "cell_type": "code",
   "execution_count": 88,
   "id": "5887cd00-040a-47fc-9650-a2e79728169a",
   "metadata": {},
   "outputs": [],
   "source": [
    "bow4 = bow_transformer.transform([mess4])"
   ]
  },
  {
   "cell_type": "code",
   "execution_count": 89,
   "id": "518078ea-940b-41bd-9394-4bca5d02f02b",
   "metadata": {},
   "outputs": [
    {
     "name": "stdout",
     "output_type": "stream",
     "text": [
      "  (0, 4068)\t2\n",
      "  (0, 4629)\t1\n",
      "  (0, 5261)\t1\n",
      "  (0, 6204)\t1\n",
      "  (0, 6222)\t1\n",
      "  (0, 7186)\t1\n",
      "  (0, 9554)\t2\n"
     ]
    }
   ],
   "source": [
    "print(bow4)"
   ]
  },
  {
   "cell_type": "code",
   "execution_count": 90,
   "id": "59f3df0e-1f84-4852-8a21-ca53d4312ea3",
   "metadata": {},
   "outputs": [
    {
     "name": "stdout",
     "output_type": "stream",
     "text": [
      "(1, 11425)\n"
     ]
    }
   ],
   "source": [
    "print(bow4.shape)"
   ]
  },
  {
   "cell_type": "code",
   "execution_count": 94,
   "id": "8b14e43e-6a9c-49b1-aa6a-efbd5754daac",
   "metadata": {},
   "outputs": [
    {
     "data": {
      "text/plain": [
       "'say'"
      ]
     },
     "execution_count": 94,
     "metadata": {},
     "output_type": "execute_result"
    }
   ],
   "source": [
    "bow_transformer.get_feature_names_out()[9554]"
   ]
  },
  {
   "cell_type": "code",
   "execution_count": 95,
   "id": "14e8a07f-37bf-4d3d-a294-8d1f37563ba3",
   "metadata": {},
   "outputs": [],
   "source": [
    "messages_bow = bow_transformer.transform(messages['message'])"
   ]
  },
  {
   "cell_type": "code",
   "execution_count": 96,
   "id": "b6b96899-0752-47ec-a9a0-304d644ce8b3",
   "metadata": {},
   "outputs": [
    {
     "name": "stdout",
     "output_type": "stream",
     "text": [
      "Shape of Sparse Matrix:  (5572, 11425)\n"
     ]
    }
   ],
   "source": [
    "print('Shape of Sparse Matrix: ', messages_bow.shape)"
   ]
  },
  {
   "cell_type": "code",
   "execution_count": 104,
   "id": "3db3312a-6562-450c-b1b5-73f705725e8c",
   "metadata": {},
   "outputs": [
    {
     "data": {
      "text/plain": [
       "(5572, 11425)"
      ]
     },
     "execution_count": 104,
     "metadata": {},
     "output_type": "execute_result"
    }
   ],
   "source": [
    "messages_bow.shape"
   ]
  },
  {
   "cell_type": "code",
   "execution_count": 105,
   "id": "78352e89-1d32-4926-84f6-9328a4aa2acb",
   "metadata": {},
   "outputs": [
    {
     "name": "stdout",
     "output_type": "stream",
     "text": [
      "Sparsity: 0.07940295412668218\n"
     ]
    }
   ],
   "source": [
    " sparsity = (100.0 * messages_bow.nnz /(messages_bow.shape[0] * messages_bow.shape[1]))\n",
    "print('Sparsity: {}'.format(sparsity))"
   ]
  },
  {
   "cell_type": "markdown",
   "id": "29e66244-b69f-46b8-ac49-95424e1c2cb1",
   "metadata": {},
   "source": [
    "After the counting, the term weighting and normalization can be done with [TF-IDF](http://en.wikipedia.org/wiki/Tf%E2%80%93idf), using scikit-learn's `TfidfTransformer`.\n",
    "\n",
    "____\n",
    "### So what is TF-IDF?\n",
    "TF-IDF stands for *term frequency-inverse document frequency*, and the tf-idf weight is a weight often used in information retrieval and text mining. This weight is a statistical measure used to evaluate how important a word is to a document in a collection or corpus. The importance increases proportionally to the number of times a word appears in the document but is offset by the frequency of the word in the corpus. Variations of the tf-idf weighting scheme are often used by search engines as a central tool in scoring and ranking a document's relevance given a user query.\n",
    "\n",
    "One of the simplest ranking functions is computed by summing the tf-idf for each query term; many more sophisticated ranking functions are variants of this simple model.\n",
    "\n",
    "Typically, the tf-idf weight is composed by two terms: the first computes the normalized Term Frequency (TF), aka. the number of times a word appears in a document, divided by the total number of words in that document; the second term is the Inverse Document Frequency (IDF), computed as the logarithm of the number of the documents in the corpus divided by the number of documents where the specific term appears.\n",
    "\n",
    "**TF: Term Frequency**, which measures how frequently a term occurs in a document. Since every document is different in length, it is possible that a term would appear much more times in long documents than shorter ones. Thus, the term frequency is often divided by the document length (aka. the total number of terms in the document) as a way of normalization: \n",
    "\n",
    "*TF(t) = (Number of times term t appears in a document) / (Total number of terms in the document).*\n",
    "\n",
    "**IDF: Inverse Document Frequency**, which measures how important a term is. While computing TF, all terms are considered equally important. However it is known that certain terms, such as \"is\", \"of\", and \"that\", may appear a lot of times but have little importance. Thus we need to weigh down the frequent terms while scale up the rare ones, by computing the following: \n",
    "\n",
    "*IDF(t) = log_e(Total number of documents / Number of documents with term t in it).*\n",
    "\n",
    "See below for a simple example.\n",
    "\n",
    "**Example:**\n",
    "\n",
    "Consider a document containing 100 words wherein the word cat appears 3 times. \n",
    "\n",
    "The term frequency (i.e., tf) for cat is then (3 / 100) = 0.03. Now, assume we have 10 million documents and the word cat appears in one thousand of these. Then, the inverse document frequency (i.e., idf) is calculated as log(10,000,000 / 1,000) = 4. Thus, the Tf-idf weight is the product of these quantities: 0.03 * 4 = 0.12.\n",
    "____\n",
    "\n",
    "Let's go ahead and see how we can do this in SciKit Learn:"
   ]
  },
  {
   "cell_type": "code",
   "execution_count": 106,
   "id": "817b885c-9be5-4730-9f7d-6ea2fcc693dd",
   "metadata": {},
   "outputs": [],
   "source": [
    "from sklearn.feature_extraction.text import TfidfTransformer"
   ]
  },
  {
   "cell_type": "code",
   "execution_count": 107,
   "id": "9783a951-7289-41c8-9174-c4e49b6ec39b",
   "metadata": {},
   "outputs": [],
   "source": [
    "tfidf_transformer = TfidfTransformer()"
   ]
  },
  {
   "cell_type": "code",
   "execution_count": 109,
   "id": "b0ab12c2-4003-4552-be0b-30ae25213bb9",
   "metadata": {},
   "outputs": [
    {
     "data": {
      "text/html": [
       "<style>#sk-container-id-1 {color: black;background-color: white;}#sk-container-id-1 pre{padding: 0;}#sk-container-id-1 div.sk-toggleable {background-color: white;}#sk-container-id-1 label.sk-toggleable__label {cursor: pointer;display: block;width: 100%;margin-bottom: 0;padding: 0.3em;box-sizing: border-box;text-align: center;}#sk-container-id-1 label.sk-toggleable__label-arrow:before {content: \"▸\";float: left;margin-right: 0.25em;color: #696969;}#sk-container-id-1 label.sk-toggleable__label-arrow:hover:before {color: black;}#sk-container-id-1 div.sk-estimator:hover label.sk-toggleable__label-arrow:before {color: black;}#sk-container-id-1 div.sk-toggleable__content {max-height: 0;max-width: 0;overflow: hidden;text-align: left;background-color: #f0f8ff;}#sk-container-id-1 div.sk-toggleable__content pre {margin: 0.2em;color: black;border-radius: 0.25em;background-color: #f0f8ff;}#sk-container-id-1 input.sk-toggleable__control:checked~div.sk-toggleable__content {max-height: 200px;max-width: 100%;overflow: auto;}#sk-container-id-1 input.sk-toggleable__control:checked~label.sk-toggleable__label-arrow:before {content: \"▾\";}#sk-container-id-1 div.sk-estimator input.sk-toggleable__control:checked~label.sk-toggleable__label {background-color: #d4ebff;}#sk-container-id-1 div.sk-label input.sk-toggleable__control:checked~label.sk-toggleable__label {background-color: #d4ebff;}#sk-container-id-1 input.sk-hidden--visually {border: 0;clip: rect(1px 1px 1px 1px);clip: rect(1px, 1px, 1px, 1px);height: 1px;margin: -1px;overflow: hidden;padding: 0;position: absolute;width: 1px;}#sk-container-id-1 div.sk-estimator {font-family: monospace;background-color: #f0f8ff;border: 1px dotted black;border-radius: 0.25em;box-sizing: border-box;margin-bottom: 0.5em;}#sk-container-id-1 div.sk-estimator:hover {background-color: #d4ebff;}#sk-container-id-1 div.sk-parallel-item::after {content: \"\";width: 100%;border-bottom: 1px solid gray;flex-grow: 1;}#sk-container-id-1 div.sk-label:hover label.sk-toggleable__label {background-color: #d4ebff;}#sk-container-id-1 div.sk-serial::before {content: \"\";position: absolute;border-left: 1px solid gray;box-sizing: border-box;top: 0;bottom: 0;left: 50%;z-index: 0;}#sk-container-id-1 div.sk-serial {display: flex;flex-direction: column;align-items: center;background-color: white;padding-right: 0.2em;padding-left: 0.2em;position: relative;}#sk-container-id-1 div.sk-item {position: relative;z-index: 1;}#sk-container-id-1 div.sk-parallel {display: flex;align-items: stretch;justify-content: center;background-color: white;position: relative;}#sk-container-id-1 div.sk-item::before, #sk-container-id-1 div.sk-parallel-item::before {content: \"\";position: absolute;border-left: 1px solid gray;box-sizing: border-box;top: 0;bottom: 0;left: 50%;z-index: -1;}#sk-container-id-1 div.sk-parallel-item {display: flex;flex-direction: column;z-index: 1;position: relative;background-color: white;}#sk-container-id-1 div.sk-parallel-item:first-child::after {align-self: flex-end;width: 50%;}#sk-container-id-1 div.sk-parallel-item:last-child::after {align-self: flex-start;width: 50%;}#sk-container-id-1 div.sk-parallel-item:only-child::after {width: 0;}#sk-container-id-1 div.sk-dashed-wrapped {border: 1px dashed gray;margin: 0 0.4em 0.5em 0.4em;box-sizing: border-box;padding-bottom: 0.4em;background-color: white;}#sk-container-id-1 div.sk-label label {font-family: monospace;font-weight: bold;display: inline-block;line-height: 1.2em;}#sk-container-id-1 div.sk-label-container {text-align: center;}#sk-container-id-1 div.sk-container {/* jupyter's `normalize.less` sets `[hidden] { display: none; }` but bootstrap.min.css set `[hidden] { display: none !important; }` so we also need the `!important` here to be able to override the default hidden behavior on the sphinx rendered scikit-learn.org. See: https://github.com/scikit-learn/scikit-learn/issues/21755 */display: inline-block !important;position: relative;}#sk-container-id-1 div.sk-text-repr-fallback {display: none;}</style><div id=\"sk-container-id-1\" class=\"sk-top-container\"><div class=\"sk-text-repr-fallback\"><pre>TfidfTransformer()</pre><b>In a Jupyter environment, please rerun this cell to show the HTML representation or trust the notebook. <br />On GitHub, the HTML representation is unable to render, please try loading this page with nbviewer.org.</b></div><div class=\"sk-container\" hidden><div class=\"sk-item\"><div class=\"sk-estimator sk-toggleable\"><input class=\"sk-toggleable__control sk-hidden--visually\" id=\"sk-estimator-id-1\" type=\"checkbox\" checked><label for=\"sk-estimator-id-1\" class=\"sk-toggleable__label sk-toggleable__label-arrow\">TfidfTransformer</label><div class=\"sk-toggleable__content\"><pre>TfidfTransformer()</pre></div></div></div></div></div>"
      ],
      "text/plain": [
       "TfidfTransformer()"
      ]
     },
     "execution_count": 109,
     "metadata": {},
     "output_type": "execute_result"
    }
   ],
   "source": [
    "tfidf_transformer.fit(messages_bow)"
   ]
  },
  {
   "cell_type": "code",
   "execution_count": 115,
   "id": "3b302075-265e-4bae-bb62-aa7c50a14b59",
   "metadata": {},
   "outputs": [],
   "source": [
    "tfidf4 = tfidf_transformer.transform(bow4)"
   ]
  },
  {
   "cell_type": "code",
   "execution_count": 116,
   "id": "0396edcb-eef6-4f55-8516-0bd97b4aff4f",
   "metadata": {},
   "outputs": [
    {
     "name": "stdout",
     "output_type": "stream",
     "text": [
      "  (0, 9554)\t0.5385626262927564\n",
      "  (0, 7186)\t0.4389365653379857\n",
      "  (0, 6222)\t0.3187216892949149\n",
      "  (0, 6204)\t0.29953799723697416\n",
      "  (0, 5261)\t0.29729957405868723\n",
      "  (0, 4629)\t0.26619801906087187\n",
      "  (0, 4068)\t0.40832589933384067\n"
     ]
    }
   ],
   "source": [
    "print(tfidf4)"
   ]
  },
  {
   "cell_type": "code",
   "execution_count": 117,
   "id": "883da361-7c18-4ea4-a029-54f88eebdaf0",
   "metadata": {},
   "outputs": [
    {
     "data": {
      "text/plain": [
       "8.527076498901426"
      ]
     },
     "execution_count": 117,
     "metadata": {},
     "output_type": "execute_result"
    }
   ],
   "source": [
    "tfidf_transformer.idf_[bow_transformer.vocabulary_['university']]"
   ]
  },
  {
   "cell_type": "code",
   "execution_count": 118,
   "id": "6ee0a2a9-86d4-4bc2-9373-9df63dfe11dc",
   "metadata": {},
   "outputs": [],
   "source": [
    "messages_tfidf = tfidf_transformer.transform(messages_bow)"
   ]
  },
  {
   "cell_type": "markdown",
   "id": "a2044514-07e3-4156-a895-5ea929ada09f",
   "metadata": {},
   "source": [
    "## Training a model"
   ]
  },
  {
   "cell_type": "markdown",
   "id": "4b0f8166-68f3-49d0-8a97-8df87aaef476",
   "metadata": {},
   "source": [
    "With messages represented as vectors, we can finally train our spam/ham classifier. Now we can actually use almost any sort of classification algorithms. For a [variety of reasons](http://www.inf.ed.ac.uk/teaching/courses/inf2b/learnnotes/inf2b-learn-note07-2up.pdf), the Naive Bayes classifier algorithm is a good choice."
   ]
  },
  {
   "cell_type": "code",
   "execution_count": 119,
   "id": "131619c9-bd85-4e58-a4b6-fad867314380",
   "metadata": {},
   "outputs": [],
   "source": [
    "from sklearn.naive_bayes import MultinomialNB"
   ]
  },
  {
   "cell_type": "code",
   "execution_count": 120,
   "id": "bc6fef1f-c72d-4852-a0ac-26af6e74ed64",
   "metadata": {},
   "outputs": [],
   "source": [
    "spam_detect_model = MultinomialNB().fit(messages_tfidf,messages['label'])"
   ]
  },
  {
   "cell_type": "code",
   "execution_count": 122,
   "id": "de4897e5-b45e-4e16-a154-b57e83ef4329",
   "metadata": {},
   "outputs": [
    {
     "data": {
      "text/plain": [
       "'ham'"
      ]
     },
     "execution_count": 122,
     "metadata": {},
     "output_type": "execute_result"
    }
   ],
   "source": [
    "spam_detect_model.predict(tfidf4)[0]"
   ]
  },
  {
   "cell_type": "code",
   "execution_count": 124,
   "id": "bb72eaa7-3c34-48d1-9921-c5db4a0f5a20",
   "metadata": {},
   "outputs": [
    {
     "data": {
      "text/plain": [
       "'ham'"
      ]
     },
     "execution_count": 124,
     "metadata": {},
     "output_type": "execute_result"
    }
   ],
   "source": [
    "messages['label'][3]"
   ]
  },
  {
   "cell_type": "markdown",
   "id": "8f41c45b-8275-4aae-a574-7d2a4224eca4",
   "metadata": {},
   "source": [
    "Fantastic! We've developed a model that can attempt to predict spam vs ham classification!\n",
    "\n",
    "## Model Evaluation\n",
    "Now we want to determine how well our model will do overall on the entire dataset. Let's begin by getting all the predictions:"
   ]
  },
  {
   "cell_type": "code",
   "execution_count": 125,
   "id": "3b2f12a5-0c66-474a-99bc-f80270af8c2c",
   "metadata": {},
   "outputs": [],
   "source": [
    "all_pred = spam_detect_model.predict(messages_tfidf)"
   ]
  },
  {
   "cell_type": "code",
   "execution_count": 126,
   "id": "603c5cbb-5780-4d0a-a597-e0d675091775",
   "metadata": {},
   "outputs": [
    {
     "data": {
      "text/plain": [
       "array(['ham', 'ham', 'spam', ..., 'ham', 'ham', 'ham'], dtype='<U4')"
      ]
     },
     "execution_count": 126,
     "metadata": {},
     "output_type": "execute_result"
    }
   ],
   "source": [
    "all_pred"
   ]
  },
  {
   "cell_type": "code",
   "execution_count": 127,
   "id": "219fc608-4235-477c-8b87-0b73dafe4362",
   "metadata": {},
   "outputs": [],
   "source": [
    "from sklearn.model_selection import train_test_split"
   ]
  },
  {
   "cell_type": "code",
   "execution_count": 128,
   "id": "222e68ac-d6de-4911-b9ba-ac0da03fb414",
   "metadata": {},
   "outputs": [],
   "source": [
    "msg_train, msg_test, label_train, label_test = train_test_split(messages['message'], messages['label'], test_size=0.3, random_state=42)"
   ]
  },
  {
   "cell_type": "markdown",
   "id": "98400011-99e0-493b-9336-48c8d59e48a6",
   "metadata": {},
   "source": [
    "## Creating a Data Pipeline\n",
    "\n",
    "Let's run our model again and then predict off the test set. We will use SciKit Learn's [pipeline](http://scikit-learn.org/stable/modules/pipeline.html) capabilities to store a pipeline of workflow. This will allow us to set up all the transformations that we will do to the data for future use. Let's see an example of how it works:"
   ]
  },
  {
   "cell_type": "code",
   "execution_count": 130,
   "id": "21e14ac9-2628-428f-b263-00813ed79e16",
   "metadata": {},
   "outputs": [],
   "source": [
    "from sklearn.pipeline import Pipeline"
   ]
  },
  {
   "cell_type": "code",
   "execution_count": 132,
   "id": "687e0891-8560-4b5f-9c35-d397bd1ce71f",
   "metadata": {},
   "outputs": [],
   "source": [
    "pipeline = Pipeline([\n",
    "    ('bow',CountVectorizer(analyzer=text_process)),\n",
    "    ('tfidf', TfidfTransformer()),\n",
    "    ('classifier', MultinomialNB())\n",
    "])"
   ]
  },
  {
   "cell_type": "code",
   "execution_count": 133,
   "id": "18975dae-1f7b-48f7-82ad-68d49faf21ab",
   "metadata": {},
   "outputs": [
    {
     "data": {
      "text/html": [
       "<style>#sk-container-id-2 {color: black;background-color: white;}#sk-container-id-2 pre{padding: 0;}#sk-container-id-2 div.sk-toggleable {background-color: white;}#sk-container-id-2 label.sk-toggleable__label {cursor: pointer;display: block;width: 100%;margin-bottom: 0;padding: 0.3em;box-sizing: border-box;text-align: center;}#sk-container-id-2 label.sk-toggleable__label-arrow:before {content: \"▸\";float: left;margin-right: 0.25em;color: #696969;}#sk-container-id-2 label.sk-toggleable__label-arrow:hover:before {color: black;}#sk-container-id-2 div.sk-estimator:hover label.sk-toggleable__label-arrow:before {color: black;}#sk-container-id-2 div.sk-toggleable__content {max-height: 0;max-width: 0;overflow: hidden;text-align: left;background-color: #f0f8ff;}#sk-container-id-2 div.sk-toggleable__content pre {margin: 0.2em;color: black;border-radius: 0.25em;background-color: #f0f8ff;}#sk-container-id-2 input.sk-toggleable__control:checked~div.sk-toggleable__content {max-height: 200px;max-width: 100%;overflow: auto;}#sk-container-id-2 input.sk-toggleable__control:checked~label.sk-toggleable__label-arrow:before {content: \"▾\";}#sk-container-id-2 div.sk-estimator input.sk-toggleable__control:checked~label.sk-toggleable__label {background-color: #d4ebff;}#sk-container-id-2 div.sk-label input.sk-toggleable__control:checked~label.sk-toggleable__label {background-color: #d4ebff;}#sk-container-id-2 input.sk-hidden--visually {border: 0;clip: rect(1px 1px 1px 1px);clip: rect(1px, 1px, 1px, 1px);height: 1px;margin: -1px;overflow: hidden;padding: 0;position: absolute;width: 1px;}#sk-container-id-2 div.sk-estimator {font-family: monospace;background-color: #f0f8ff;border: 1px dotted black;border-radius: 0.25em;box-sizing: border-box;margin-bottom: 0.5em;}#sk-container-id-2 div.sk-estimator:hover {background-color: #d4ebff;}#sk-container-id-2 div.sk-parallel-item::after {content: \"\";width: 100%;border-bottom: 1px solid gray;flex-grow: 1;}#sk-container-id-2 div.sk-label:hover label.sk-toggleable__label {background-color: #d4ebff;}#sk-container-id-2 div.sk-serial::before {content: \"\";position: absolute;border-left: 1px solid gray;box-sizing: border-box;top: 0;bottom: 0;left: 50%;z-index: 0;}#sk-container-id-2 div.sk-serial {display: flex;flex-direction: column;align-items: center;background-color: white;padding-right: 0.2em;padding-left: 0.2em;position: relative;}#sk-container-id-2 div.sk-item {position: relative;z-index: 1;}#sk-container-id-2 div.sk-parallel {display: flex;align-items: stretch;justify-content: center;background-color: white;position: relative;}#sk-container-id-2 div.sk-item::before, #sk-container-id-2 div.sk-parallel-item::before {content: \"\";position: absolute;border-left: 1px solid gray;box-sizing: border-box;top: 0;bottom: 0;left: 50%;z-index: -1;}#sk-container-id-2 div.sk-parallel-item {display: flex;flex-direction: column;z-index: 1;position: relative;background-color: white;}#sk-container-id-2 div.sk-parallel-item:first-child::after {align-self: flex-end;width: 50%;}#sk-container-id-2 div.sk-parallel-item:last-child::after {align-self: flex-start;width: 50%;}#sk-container-id-2 div.sk-parallel-item:only-child::after {width: 0;}#sk-container-id-2 div.sk-dashed-wrapped {border: 1px dashed gray;margin: 0 0.4em 0.5em 0.4em;box-sizing: border-box;padding-bottom: 0.4em;background-color: white;}#sk-container-id-2 div.sk-label label {font-family: monospace;font-weight: bold;display: inline-block;line-height: 1.2em;}#sk-container-id-2 div.sk-label-container {text-align: center;}#sk-container-id-2 div.sk-container {/* jupyter's `normalize.less` sets `[hidden] { display: none; }` but bootstrap.min.css set `[hidden] { display: none !important; }` so we also need the `!important` here to be able to override the default hidden behavior on the sphinx rendered scikit-learn.org. See: https://github.com/scikit-learn/scikit-learn/issues/21755 */display: inline-block !important;position: relative;}#sk-container-id-2 div.sk-text-repr-fallback {display: none;}</style><div id=\"sk-container-id-2\" class=\"sk-top-container\"><div class=\"sk-text-repr-fallback\"><pre>Pipeline(steps=[(&#x27;bow&#x27;,\n",
       "                 CountVectorizer(analyzer=&lt;function text_process at 0x0000022BCDB92700&gt;)),\n",
       "                (&#x27;tfidf&#x27;, TfidfTransformer()),\n",
       "                (&#x27;classifier&#x27;, MultinomialNB())])</pre><b>In a Jupyter environment, please rerun this cell to show the HTML representation or trust the notebook. <br />On GitHub, the HTML representation is unable to render, please try loading this page with nbviewer.org.</b></div><div class=\"sk-container\" hidden><div class=\"sk-item sk-dashed-wrapped\"><div class=\"sk-label-container\"><div class=\"sk-label sk-toggleable\"><input class=\"sk-toggleable__control sk-hidden--visually\" id=\"sk-estimator-id-2\" type=\"checkbox\" ><label for=\"sk-estimator-id-2\" class=\"sk-toggleable__label sk-toggleable__label-arrow\">Pipeline</label><div class=\"sk-toggleable__content\"><pre>Pipeline(steps=[(&#x27;bow&#x27;,\n",
       "                 CountVectorizer(analyzer=&lt;function text_process at 0x0000022BCDB92700&gt;)),\n",
       "                (&#x27;tfidf&#x27;, TfidfTransformer()),\n",
       "                (&#x27;classifier&#x27;, MultinomialNB())])</pre></div></div></div><div class=\"sk-serial\"><div class=\"sk-item\"><div class=\"sk-estimator sk-toggleable\"><input class=\"sk-toggleable__control sk-hidden--visually\" id=\"sk-estimator-id-3\" type=\"checkbox\" ><label for=\"sk-estimator-id-3\" class=\"sk-toggleable__label sk-toggleable__label-arrow\">CountVectorizer</label><div class=\"sk-toggleable__content\"><pre>CountVectorizer(analyzer=&lt;function text_process at 0x0000022BCDB92700&gt;)</pre></div></div></div><div class=\"sk-item\"><div class=\"sk-estimator sk-toggleable\"><input class=\"sk-toggleable__control sk-hidden--visually\" id=\"sk-estimator-id-4\" type=\"checkbox\" ><label for=\"sk-estimator-id-4\" class=\"sk-toggleable__label sk-toggleable__label-arrow\">TfidfTransformer</label><div class=\"sk-toggleable__content\"><pre>TfidfTransformer()</pre></div></div></div><div class=\"sk-item\"><div class=\"sk-estimator sk-toggleable\"><input class=\"sk-toggleable__control sk-hidden--visually\" id=\"sk-estimator-id-5\" type=\"checkbox\" ><label for=\"sk-estimator-id-5\" class=\"sk-toggleable__label sk-toggleable__label-arrow\">MultinomialNB</label><div class=\"sk-toggleable__content\"><pre>MultinomialNB()</pre></div></div></div></div></div></div></div>"
      ],
      "text/plain": [
       "Pipeline(steps=[('bow',\n",
       "                 CountVectorizer(analyzer=<function text_process at 0x0000022BCDB92700>)),\n",
       "                ('tfidf', TfidfTransformer()),\n",
       "                ('classifier', MultinomialNB())])"
      ]
     },
     "execution_count": 133,
     "metadata": {},
     "output_type": "execute_result"
    }
   ],
   "source": [
    " pipeline.fit(msg_train,label_train)"
   ]
  },
  {
   "cell_type": "code",
   "execution_count": 134,
   "id": "5c7ff6f7-19ea-401b-8d5f-42f0e9e2157e",
   "metadata": {},
   "outputs": [],
   "source": [
    "predictions = pipeline.predict(msg_test)"
   ]
  },
  {
   "cell_type": "code",
   "execution_count": 135,
   "id": "6c178b54-c696-4eb5-be90-f3a61aed33b3",
   "metadata": {},
   "outputs": [
    {
     "data": {
      "text/plain": [
       "array(['ham', 'ham', 'ham', ..., 'ham', 'spam', 'ham'], dtype='<U4')"
      ]
     },
     "execution_count": 135,
     "metadata": {},
     "output_type": "execute_result"
    }
   ],
   "source": [
    "predictions"
   ]
  },
  {
   "cell_type": "code",
   "execution_count": 136,
   "id": "3567e8ff-edca-481c-bd1d-e79bd75432b4",
   "metadata": {},
   "outputs": [],
   "source": [
    "from sklearn.metrics import classification_report,confusion_matrix,accuracy_score"
   ]
  },
  {
   "cell_type": "code",
   "execution_count": 137,
   "id": "bc345948-8165-4792-9fd1-cdad057d6c30",
   "metadata": {},
   "outputs": [
    {
     "name": "stdout",
     "output_type": "stream",
     "text": [
      "              precision    recall  f1-score   support\n",
      "\n",
      "         ham       0.96      1.00      0.98      1448\n",
      "        spam       1.00      0.73      0.85       224\n",
      "\n",
      "    accuracy                           0.96      1672\n",
      "   macro avg       0.98      0.87      0.91      1672\n",
      "weighted avg       0.97      0.96      0.96      1672\n",
      "\n",
      "[[1448    0]\n",
      " [  60  164]]\n",
      "0.9641148325358851\n"
     ]
    }
   ],
   "source": [
    "print(classification_report(label_test,predictions))\n",
    "print(confusion_matrix(label_test,predictions))\n",
    "print(accuracy_score(label_test,predictions))"
   ]
  },
  {
   "cell_type": "markdown",
   "id": "0b2d58f7-1241-45fc-885c-68e3d9401c83",
   "metadata": {},
   "source": [
    "## Data Pipeline with the Random Forest classifier"
   ]
  },
  {
   "cell_type": "code",
   "execution_count": 138,
   "id": "0cb6fc6b-7d6c-40a6-b050-10b0a73f41ab",
   "metadata": {},
   "outputs": [],
   "source": [
    "from sklearn.ensemble import RandomForestClassifier"
   ]
  },
  {
   "cell_type": "code",
   "execution_count": 139,
   "id": "8520f8c6-f153-4741-8cbb-2b76b66d3c70",
   "metadata": {},
   "outputs": [],
   "source": [
    "pipelineRand = Pipeline([\n",
    "    ('bow',CountVectorizer(analyzer=text_process)),\n",
    "    ('tfidf', TfidfTransformer()),\n",
    "    ('classifier', RandomForestClassifier())\n",
    "])"
   ]
  },
  {
   "cell_type": "code",
   "execution_count": 140,
   "id": "0955bafe-1806-4009-b034-e803576606be",
   "metadata": {},
   "outputs": [
    {
     "data": {
      "text/html": [
       "<style>#sk-container-id-3 {color: black;background-color: white;}#sk-container-id-3 pre{padding: 0;}#sk-container-id-3 div.sk-toggleable {background-color: white;}#sk-container-id-3 label.sk-toggleable__label {cursor: pointer;display: block;width: 100%;margin-bottom: 0;padding: 0.3em;box-sizing: border-box;text-align: center;}#sk-container-id-3 label.sk-toggleable__label-arrow:before {content: \"▸\";float: left;margin-right: 0.25em;color: #696969;}#sk-container-id-3 label.sk-toggleable__label-arrow:hover:before {color: black;}#sk-container-id-3 div.sk-estimator:hover label.sk-toggleable__label-arrow:before {color: black;}#sk-container-id-3 div.sk-toggleable__content {max-height: 0;max-width: 0;overflow: hidden;text-align: left;background-color: #f0f8ff;}#sk-container-id-3 div.sk-toggleable__content pre {margin: 0.2em;color: black;border-radius: 0.25em;background-color: #f0f8ff;}#sk-container-id-3 input.sk-toggleable__control:checked~div.sk-toggleable__content {max-height: 200px;max-width: 100%;overflow: auto;}#sk-container-id-3 input.sk-toggleable__control:checked~label.sk-toggleable__label-arrow:before {content: \"▾\";}#sk-container-id-3 div.sk-estimator input.sk-toggleable__control:checked~label.sk-toggleable__label {background-color: #d4ebff;}#sk-container-id-3 div.sk-label input.sk-toggleable__control:checked~label.sk-toggleable__label {background-color: #d4ebff;}#sk-container-id-3 input.sk-hidden--visually {border: 0;clip: rect(1px 1px 1px 1px);clip: rect(1px, 1px, 1px, 1px);height: 1px;margin: -1px;overflow: hidden;padding: 0;position: absolute;width: 1px;}#sk-container-id-3 div.sk-estimator {font-family: monospace;background-color: #f0f8ff;border: 1px dotted black;border-radius: 0.25em;box-sizing: border-box;margin-bottom: 0.5em;}#sk-container-id-3 div.sk-estimator:hover {background-color: #d4ebff;}#sk-container-id-3 div.sk-parallel-item::after {content: \"\";width: 100%;border-bottom: 1px solid gray;flex-grow: 1;}#sk-container-id-3 div.sk-label:hover label.sk-toggleable__label {background-color: #d4ebff;}#sk-container-id-3 div.sk-serial::before {content: \"\";position: absolute;border-left: 1px solid gray;box-sizing: border-box;top: 0;bottom: 0;left: 50%;z-index: 0;}#sk-container-id-3 div.sk-serial {display: flex;flex-direction: column;align-items: center;background-color: white;padding-right: 0.2em;padding-left: 0.2em;position: relative;}#sk-container-id-3 div.sk-item {position: relative;z-index: 1;}#sk-container-id-3 div.sk-parallel {display: flex;align-items: stretch;justify-content: center;background-color: white;position: relative;}#sk-container-id-3 div.sk-item::before, #sk-container-id-3 div.sk-parallel-item::before {content: \"\";position: absolute;border-left: 1px solid gray;box-sizing: border-box;top: 0;bottom: 0;left: 50%;z-index: -1;}#sk-container-id-3 div.sk-parallel-item {display: flex;flex-direction: column;z-index: 1;position: relative;background-color: white;}#sk-container-id-3 div.sk-parallel-item:first-child::after {align-self: flex-end;width: 50%;}#sk-container-id-3 div.sk-parallel-item:last-child::after {align-self: flex-start;width: 50%;}#sk-container-id-3 div.sk-parallel-item:only-child::after {width: 0;}#sk-container-id-3 div.sk-dashed-wrapped {border: 1px dashed gray;margin: 0 0.4em 0.5em 0.4em;box-sizing: border-box;padding-bottom: 0.4em;background-color: white;}#sk-container-id-3 div.sk-label label {font-family: monospace;font-weight: bold;display: inline-block;line-height: 1.2em;}#sk-container-id-3 div.sk-label-container {text-align: center;}#sk-container-id-3 div.sk-container {/* jupyter's `normalize.less` sets `[hidden] { display: none; }` but bootstrap.min.css set `[hidden] { display: none !important; }` so we also need the `!important` here to be able to override the default hidden behavior on the sphinx rendered scikit-learn.org. See: https://github.com/scikit-learn/scikit-learn/issues/21755 */display: inline-block !important;position: relative;}#sk-container-id-3 div.sk-text-repr-fallback {display: none;}</style><div id=\"sk-container-id-3\" class=\"sk-top-container\"><div class=\"sk-text-repr-fallback\"><pre>Pipeline(steps=[(&#x27;bow&#x27;,\n",
       "                 CountVectorizer(analyzer=&lt;function text_process at 0x0000022BCDB92700&gt;)),\n",
       "                (&#x27;tfidf&#x27;, TfidfTransformer()),\n",
       "                (&#x27;classifier&#x27;, RandomForestClassifier())])</pre><b>In a Jupyter environment, please rerun this cell to show the HTML representation or trust the notebook. <br />On GitHub, the HTML representation is unable to render, please try loading this page with nbviewer.org.</b></div><div class=\"sk-container\" hidden><div class=\"sk-item sk-dashed-wrapped\"><div class=\"sk-label-container\"><div class=\"sk-label sk-toggleable\"><input class=\"sk-toggleable__control sk-hidden--visually\" id=\"sk-estimator-id-6\" type=\"checkbox\" ><label for=\"sk-estimator-id-6\" class=\"sk-toggleable__label sk-toggleable__label-arrow\">Pipeline</label><div class=\"sk-toggleable__content\"><pre>Pipeline(steps=[(&#x27;bow&#x27;,\n",
       "                 CountVectorizer(analyzer=&lt;function text_process at 0x0000022BCDB92700&gt;)),\n",
       "                (&#x27;tfidf&#x27;, TfidfTransformer()),\n",
       "                (&#x27;classifier&#x27;, RandomForestClassifier())])</pre></div></div></div><div class=\"sk-serial\"><div class=\"sk-item\"><div class=\"sk-estimator sk-toggleable\"><input class=\"sk-toggleable__control sk-hidden--visually\" id=\"sk-estimator-id-7\" type=\"checkbox\" ><label for=\"sk-estimator-id-7\" class=\"sk-toggleable__label sk-toggleable__label-arrow\">CountVectorizer</label><div class=\"sk-toggleable__content\"><pre>CountVectorizer(analyzer=&lt;function text_process at 0x0000022BCDB92700&gt;)</pre></div></div></div><div class=\"sk-item\"><div class=\"sk-estimator sk-toggleable\"><input class=\"sk-toggleable__control sk-hidden--visually\" id=\"sk-estimator-id-8\" type=\"checkbox\" ><label for=\"sk-estimator-id-8\" class=\"sk-toggleable__label sk-toggleable__label-arrow\">TfidfTransformer</label><div class=\"sk-toggleable__content\"><pre>TfidfTransformer()</pre></div></div></div><div class=\"sk-item\"><div class=\"sk-estimator sk-toggleable\"><input class=\"sk-toggleable__control sk-hidden--visually\" id=\"sk-estimator-id-9\" type=\"checkbox\" ><label for=\"sk-estimator-id-9\" class=\"sk-toggleable__label sk-toggleable__label-arrow\">RandomForestClassifier</label><div class=\"sk-toggleable__content\"><pre>RandomForestClassifier()</pre></div></div></div></div></div></div></div>"
      ],
      "text/plain": [
       "Pipeline(steps=[('bow',\n",
       "                 CountVectorizer(analyzer=<function text_process at 0x0000022BCDB92700>)),\n",
       "                ('tfidf', TfidfTransformer()),\n",
       "                ('classifier', RandomForestClassifier())])"
      ]
     },
     "execution_count": 140,
     "metadata": {},
     "output_type": "execute_result"
    }
   ],
   "source": [
    "pipelineRand.fit(msg_train,label_train)"
   ]
  },
  {
   "cell_type": "code",
   "execution_count": 141,
   "id": "b4f7b23a-24cb-40f6-916d-5df8dc2e3cf3",
   "metadata": {},
   "outputs": [],
   "source": [
    "predictionsRand = pipelineRand.predict(msg_test)"
   ]
  },
  {
   "cell_type": "code",
   "execution_count": 142,
   "id": "71107263-0d48-45fb-ab68-0fd136f379b7",
   "metadata": {},
   "outputs": [
    {
     "data": {
      "text/plain": [
       "array(['ham', 'ham', 'ham', ..., 'ham', 'spam', 'ham'], dtype=object)"
      ]
     },
     "execution_count": 142,
     "metadata": {},
     "output_type": "execute_result"
    }
   ],
   "source": [
    "predictionsRand"
   ]
  },
  {
   "cell_type": "code",
   "execution_count": 143,
   "id": "423f4c14-0b61-43dd-b4c1-e424ccaee9c9",
   "metadata": {},
   "outputs": [
    {
     "name": "stdout",
     "output_type": "stream",
     "text": [
      "              precision    recall  f1-score   support\n",
      "\n",
      "         ham       0.97      1.00      0.99      1448\n",
      "        spam       1.00      0.83      0.90       224\n",
      "\n",
      "    accuracy                           0.98      1672\n",
      "   macro avg       0.99      0.91      0.95      1672\n",
      "weighted avg       0.98      0.98      0.98      1672\n",
      "\n",
      "[[1448    0]\n",
      " [  39  185]]\n",
      "0.9766746411483254\n"
     ]
    }
   ],
   "source": [
    "print(classification_report(label_test,predictionsRand))\n",
    "print(confusion_matrix(label_test,predictionsRand))\n",
    "print(accuracy_score(label_test,predictionsRand))"
   ]
  },
  {
   "cell_type": "markdown",
   "id": "626cddd6-dde6-4381-bcc6-6972aef0db7a",
   "metadata": {},
   "source": [
    "# Great Job!"
   ]
  },
  {
   "cell_type": "code",
   "execution_count": null,
   "id": "f710b3e1-feb5-48e6-a098-abe154552d85",
   "metadata": {},
   "outputs": [],
   "source": []
  }
 ],
 "metadata": {
  "kernelspec": {
   "display_name": "Python 3 (ipykernel)",
   "language": "python",
   "name": "python3"
  },
  "language_info": {
   "codemirror_mode": {
    "name": "ipython",
    "version": 3
   },
   "file_extension": ".py",
   "mimetype": "text/x-python",
   "name": "python",
   "nbconvert_exporter": "python",
   "pygments_lexer": "ipython3",
   "version": "3.11.7"
  }
 },
 "nbformat": 4,
 "nbformat_minor": 5
}
